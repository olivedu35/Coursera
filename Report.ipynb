{
    "nbformat": 4, 
    "metadata": {
        "language_info": {
            "pygments_lexer": "ipython3", 
            "file_extension": ".py", 
            "mimetype": "text/x-python", 
            "codemirror_mode": {
                "name": "ipython", 
                "version": 3
            }, 
            "version": "3.5.5", 
            "name": "python", 
            "nbconvert_exporter": "python"
        }, 
        "kernelspec": {
            "name": "python3", 
            "language": "python", 
            "display_name": "Python 3.5"
        }
    }, 
    "cells": [
        {
            "source": "# Clustering and segmenting Neighborhood in Rennes, France", 
            "metadata": {
                "collapsed": true
            }, 
            "cell_type": "markdown"
        }, 
        {
            "source": "## Introduction / Business Problem", 
            "metadata": {}, 
            "cell_type": "markdown"
        }, 
        {
            "source": "Rennes is my birth city and was quite in advance on its time by giving open datas to the people since at least ten years. Now, there is lots of data from the city of Rennes and other contractors that have business in Rennes. Like for example the company that run the bus in Rennes has some API to get datas about them. Bus stop location, real time traffic, etc..\n\nOur objectif in this project is to cluster Rennes Neighborhood using foursquare and using datas from the city of Rennes.\n\nWe use foursquare API but we also add data about transportation of Rennes city.\n\nThen we try to analyse cluster predicted and assigned them to groups of people. \n\nOverall business objectif  is to direct people/businesses, that are looking to settle in Rennes, into the good neighborhood.", 
            "metadata": {}, 
            "cell_type": "markdown"
        }, 
        {
            "source": "## Data", 
            "metadata": {}, 
            "cell_type": "markdown"
        }, 
        {
            "source": "In order to complete out goals, two source of datas are going to be used : \n- Foursquare API\n- Rennes' datasets\n\nAll datas are quite easily available. Biggest challenge is to find out the neighborhood and assign each venue, structure, etc.. to the correct neighborhood.\n\n", 
            "metadata": {}, 
            "cell_type": "markdown"
        }, 
        {
            "source": "### Foursquare API", 
            "metadata": {}, 
            "cell_type": "markdown"
        }, 
        {
            "source": "Foursquare is a social location service that allows users to explore the world around them. They are at this time able to review locations in which they come and go and give a notation and a comment about this place. \n\nThe Foursquare API allows application developers to interact with the Foursquare platform. We can retrieve venues and all the details about it (notations, comments, users, etc..), but also details about users.\n\nIn order to cluster our neighborhood, we will use Foursquare API to have data about Rennes locations and venues.\nWe will then be able to link top 10 venues to each neighborhood.", 
            "metadata": {}, 
            "cell_type": "markdown"
        }, 
        {
            "source": "### Rennes' datasets", 
            "metadata": {}, 
            "cell_type": "markdown"
        }, 
        {
            "source": "In addition to the Foursquare venues, we will add transport informations to our neighborhood : \n- Number of Bus stops\n- Number of charger for electric vehicles\n- Number of paid parking\n- Number of bike supports\n- Number of green roads\n- Number of culture equipment\n\nEach of these datasets are coming from Rennes Open Data Services. We downloaded some csv files containing informations about Rennes and others cities surrounding Rennes. Each equipment, location, etc. is coming with a Latitude and a Longitude. for simplicity purpose, we will use in this study only the informations concerning Rennes. \n\nIn Rennes Open Datas Services we were also able to find on very important dataset, which is the one that cut Rennes into neighborhood.\n\nThanksfully Rennes is a quite small city compared to New York and Toronto, so we do not need to cut down the numbers of neighborhood.\n\nIn order to analyse our clusters, we also have datas about : \n- Sexe, age and nationality of population in Rennes\n- Seniority of habitants of Rennes\n\nWe will use these datas to see if our analysis is correct at the end of the project. \nWe will indeed be able to see if habitants of a neighbourhood are concording with the analysis we made about each clusters we created.", 
            "metadata": {}, 
            "cell_type": "markdown"
        }, 
        {
            "source": "# Methodology", 
            "metadata": {}, 
            "cell_type": "markdown"
        }, 
        {
            "source": "Each dataset from the Rennes Open Data website were given as csv. Every one of them needed some data preparation. \nOf course each dataset had different columns and different datas. My main goal was to get some geographical position for each point of interest in order to join it later to its corresponding Neighbourhood.\n\nThat part was not the most difficult. \n\nI then add to find a way to check which neighbourhood to assign to each one of these equipments.\n\nI used haversine formula : \nThe haversine formula determines the great-circle distance between two points on a sphere given their longitudes and latitudes. Important in navigation, it is a special case of a more general formula in spherical trigonometry, the law of haversines, that relates the sides and angles of spherical triangles.\n\nI choosed to compute the distance between every point and every Neighbourhood and then assign the nearest Neighbourhood to each point.\n\nOnce this operation done for Bus stops, charger for electric vehicles, paid parking, bike supports and green roads, I just needed to merge the table with the culture equipment which already contained name of each neighbourhood, and then I only needed to present my datas in the same way that I was going to do it for the Foursquare datas. \n\nAs I was this well going on my pase, I decided to apply the machine Learning algorithm (k-mean clustering) without even getting the datas to Foursquare, in order to have a first look on the clustering. \n\nOnce that done I got datas from foursquare and was quite disapointed that there were so few datas on foursquare about Rennes.\nI then applied the k-mean clustering algorithm on it only.\n\nI finally merge both dataset and applied once again the k-mean clustering algorithm.\n\nNow that I had done all this I was now able to examine my results and to draw some conclusions.", 
            "metadata": {}, 
            "cell_type": "markdown"
        }, 
        {
            "source": "# Results ", 
            "metadata": {}, 
            "cell_type": "markdown"
        }, 
        {
            "source": "First Lets see the repartition of the Neighbourhoods in the Great City of Rennes : \n\n![Image](https://github.com/olivedu35/Coursera/blob/master/Capture%20d\u2019\u00e9cran%202018-12-04%20\u00e0%2000.12.17.png?raw=true)", 
            "metadata": {}, 
            "cell_type": "markdown"
        }, 
        {
            "source": "Now let's see the clustering after applying our machine learning algorithm on Rennes Open Data website datasets only : \n![Image](https://github.com/olivedu35/Coursera/blob/master/Capture%20d\u2019\u00e9cran%202018-12-04%20\u00e0%2000.12.45.png?raw=true)", 
            "metadata": {}, 
            "cell_type": "markdown"
        }, 
        {
            "source": "We can now appreciate the clustering after Applying the Machine learning algorithm on Frousquare Datas. \nSadly, due to the lack of data on Foursquare, one Neighbourhood is not even appearing : \n![Image](https://github.com/olivedu35/Coursera/blob/master/Capture%20d\u2019\u00e9cran%202018-12-04%20\u00e0%2000.12.58.png?raw=true)", 
            "metadata": {}, 
            "cell_type": "markdown"
        }, 
        {
            "source": "Finally, lets see the clustering after the merging of the two data sets : \n![Image](https://github.com/olivedu35/Coursera/blob/master/Capture%20d\u2019\u00e9cran%202018-12-04%20\u00e0%2000.13.16.png?raw=true)", 
            "metadata": {}, 
            "cell_type": "markdown"
        }, 
        {
            "source": "The first thing we can see is that the clustering on datas from Rennes Open Data website and the clustering from the data of Rennes Open Data website and Foursquare API combined, are exactly the same. Which is meaning that the lack of datas from Foursquare API for the city of Rennes, is totaly immerged into the datasets of Rennes Open Data website. This is quite sad but there is indeed only 100 venues that are existing for the city of Rennes on Foursquare, and the more than 4500 points of interest that are coming from the Rennes Open Data website. This is clearly the reason why clustering is the same for the dataset with and without Foursquare API datas.\n\nLet's now examine the different custers for this last clustering which is the most complete :", 
            "metadata": {}, 
            "cell_type": "markdown"
        }, 
        {
            "source": "![Image](https://github.com/olivedu35/Coursera/blob/master/Cluster%200.png?raw=true)", 
            "metadata": {}, 
            "cell_type": "markdown"
        }, 
        {
            "source": "This is corresponding to the RED cluster on the map above.\nWe can see that as expected datas from the Rennes Open Data website are taking the first common venues. We also can see that they are the only one to match with one another in this cluster.", 
            "metadata": {}, 
            "cell_type": "markdown"
        }, 
        {
            "source": "![Image](https://github.com/olivedu35/Coursera/blob/master/Cluster%201.png?raw=true)", 
            "metadata": {}, 
            "cell_type": "markdown"
        }, 
        {
            "source": "In this second cluster, which is corresponding to the violet points on the map, the venues we added to Foursquare are still getting the first position, but un this cluster we can find venues from Foursquare that are matching with one another, like Fast food restaurent, Metro station and in general \"Restaurants\". These neighbourhood seems to be the ones seeted to find a good meal.", 
            "metadata": {}, 
            "cell_type": "markdown"
        }, 
        {
            "source": "![Image](https://github.com/olivedu35/Coursera/blob/master/Cluster%202.png?raw=true)", 
            "metadata": {}, 
            "cell_type": "markdown"
        }, 
        {
            "source": "This cluster is corresponding to the blue points on the map. Bus stops seems there to be the most common venue and the central point to get this cluster. There is indeed this bias that we are getting from foursquare datas and Rennes' datas : we can have some duplicated that we did not take into account for this study. If this was going to go further it would be a good starting point.", 
            "metadata": {}, 
            "cell_type": "markdown"
        }, 
        {
            "source": "![Image](https://github.com/olivedu35/Coursera/blob/master/Cluster%203.png?raw=true)", 
            "metadata": {}, 
            "cell_type": "markdown"
        }, 
        {
            "source": "This cluster is corresponding to the green points on the map. All the venues from Foursquare except the soccer field are Restaurant in this two neighbourhood.", 
            "metadata": {}, 
            "cell_type": "markdown"
        }, 
        {
            "source": "![Image](https://github.com/olivedu35/Coursera/blob/master/Cluster%204.png?raw=true)", 
            "metadata": {}, 
            "cell_type": "markdown"
        }, 
        {
            "source": "This cluster is corresponding to the orange points on the map. It is the neighboorhood that does not fit into any othe cluster. As we can see Venues are much more cultural that restaurant or shops, which seems to be the reason why it is alone.", 
            "metadata": {}, 
            "cell_type": "markdown"
        }, 
        {
            "source": "# Discussion", 
            "metadata": {}, 
            "cell_type": "markdown"
        }, 
        {
            "source": "I wanted too add relevant information to the Foursquare data set on a city I know well. \nThe result is clearly shown : the foursquare's datas on the city of Rennes are almost inexisting. If I had to do it again, I would try a bigger city in France, like Paris. We can now find on the internet many providers of Open Datas, and I'm sure we could find some on Paris do try doing the same thing. Adding some informations about the possibility to navigate with green vehicles in each neighbourhood and see the different clusters based on the different venues of foursquare. \n\nThe second point I wanted to study was to get the information about the population of Rennes inhabitants and of each neighbourhood, to find out if the inhabitants of the neighbourhood of a same cluster were indeed the same type (age, professions, etc..). Another disapointment from the datas from Rennes' was to find out that they were only based on the city and that there were not any information about the neighbourhood for these informations.\n\nIf I wanted to go further with this study, I would contact Rennes city and each of the Rennes Neighbourhood in order to have some public data sets that would give me the opportunity to analyse this kind of stuff. I would also try to find some more datas from Rennes Open Datas website, and I would leave the datas from the Foursquare API behind as they are way to few to be of interest.", 
            "metadata": {}, 
            "cell_type": "markdown"
        }, 
        {
            "source": "# Conclusion", 
            "metadata": {}, 
            "cell_type": "markdown"
        }, 
        {
            "source": "To conclude, It was a great achievement to scrap datas from a third party provider and prepare them in order to mix it with the Foursquare ones. There was some challenge on how to get the corresponding neighbourhood to the point of interest, for example. I had to make research and choose an appropriate and interesting way to do that.\n\nMoreover, there is quite a lot more that we could do on this project, as I discussed it earlier. One other challenge could be to get the exact shape of the neighbourhood and find out exactly if the venue, or the point of interest in appartening to the neighbourhood or not.\n\nI learnt many things in this mooc and the possibilities are huge. Clustering is a good example of machine learning algorithm that we could use for this kind ok application but I also get the opportunity to discover some other interesting algorithm, that could be use for personnal and professional use, on application that must not use foursquare API, like ", 
            "metadata": {}, 
            "cell_type": "markdown"
        }
    ], 
    "nbformat_minor": 1
}