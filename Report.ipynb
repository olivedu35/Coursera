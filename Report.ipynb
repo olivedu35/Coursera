{
    "cells": [
        {
            "cell_type": "markdown", 
            "metadata": {
                "collapsed": true
            }, 
            "source": "# Clustering and segmenting Neighborhood in Rennes, France"
        }, 
        {
            "cell_type": "markdown", 
            "metadata": {}, 
            "source": "## Introduction / Business Problem"
        }, 
        {
            "cell_type": "markdown", 
            "metadata": {}, 
            "source": "Rennes is my birth city and was quite in advance on its time by giving open datas to the people since at least ten years. Now, there is lots of data from the city of Rennes and other contractors that have business in Rennes. Like for example the company that run the bus in Rennes has some API to get datas about them. Bus stop location, real time traffic, etc..\n\nOur objectif in this project is to cluster Rennes Neighborhood using foursquare and using datas from the city of Rennes.\n\nWe use foursquare API but we also add data about transportation of Rennes city.\n\nThen we try to analyse cluster predicted and assigned them to groups of people. \n\nOverall business objectif  is to direct people/businesses, that are looking to settle in Rennes, into the good neighborhood."
        }, 
        {
            "cell_type": "markdown", 
            "metadata": {}, 
            "source": "## Data"
        }, 
        {
            "cell_type": "markdown", 
            "metadata": {}, 
            "source": "In order to complete out goals, two source of datas are going to be used : \n- Foursquare API\n- Rennes' datasets\n\nAll datas are quite easily available. Biggest challenge is to find out the neighborhood and assign each venue, structure, etc.. to the correct neighborhood.\n\n"
        }, 
        {
            "cell_type": "markdown", 
            "metadata": {}, 
            "source": "### Foursquare API"
        }, 
        {
            "cell_type": "markdown", 
            "metadata": {}, 
            "source": "Foursquare is a social location service that allows users to explore the world around them. They are at this time able to review locations in which they come and go and give a notation and a comment about this place. \n\nThe Foursquare API allows application developers to interact with the Foursquare platform. We can retrieve venues and all the details about it (notations, comments, users, etc..), but also details about users.\n\nIn order to cluster our neighborhood, we will use Foursquare API to have data about Rennes locations and venues.\nWe will then be able to link top 10 venues to each neighborhood."
        }, 
        {
            "cell_type": "markdown", 
            "metadata": {}, 
            "source": "### Rennes' datasets"
        }, 
        {
            "cell_type": "markdown", 
            "metadata": {}, 
            "source": "In addition to the Foursquare venues, we will add transport informations to our neighborhood : \n- Number of Bus stops\n- Number of charger for electric vehicles\n- Number of paid parking\n- Number of bike supports\n- Number of green roads\n- Number of culture equipment\n\nEach of these datasets are coming from Rennes Open Data Services. We downloaded some csv files containing informations about Rennes and others cities surrounding Rennes. Each equipment, location, etc. is coming with a Latitude and a Longitude. for simplicity purpose, we will use in this study only the informations concerning Rennes. \n\nIn Rennes Open Datas Services we were also able to find on very important dataset, which is the one that cut Rennes into neighborhood.\n\nThanksfully Rennes is a quite small city compared to New York and Toronto, so we do not need to cut down the numbers of neighborhood.\n\nIn order to analyse our clusters, we also have datas about : \n- Sexe, age and nationality of population in Rennes\n- Seniority of habitants of Rennes\n\nWe will use these datas to see if our analysis is correct at the end of the project. \nWe will indeed be able to see if habitants of a neighbourhood are concording with the analysis we made about each clusters we created."
        }, 
        {
            "cell_type": "markdown", 
            "metadata": {}, 
            "source": "# Methodology"
        }, 
        {
            "cell_type": "markdown", 
            "metadata": {}, 
            "source": "Each dataset from the Rennes Open Data website were given as csv. Every one of them needed some data preparation. \nOf course each dataset had different columns and different datas. My main goal was to get some geographical position for each point of interest in order to join it later to its corresponding Neighbourhood.\n\nThat part was not the most difficult. \n\nI then add to find a way to check which neighbourhood to assign to each one of these equipments.\n\nI used haversine formula : \nThe haversine formula determines the great-circle distance between two points on a sphere given their longitudes and latitudes. Important in navigation, it is a special case of a more general formula in spherical trigonometry, the law of haversines, that relates the sides and angles of spherical triangles.\n\nI choosed to compute the distance between every point and every Neighbourhood and then assign the nearest Neighbourhood to each point.\n\nOnce this operation done for Bus stops, charger for electric vehicles, paid parking, bike supports and green roads, I just needed to merge the table with the culture equipment which already contained name of each neighbourhood, and then I only needed to present my datas in the same way that I was going to do it for the Foursquare datas. \n\nAs I was this well going on my pase, I decided to apply the machine Learning algorithm (k-mean clustering) without even getting the datas to Foursquare, in order to have a first look on the clustering. \n\nOnce that done I got datas from foursquare and was quite disapointed that there were so few datas on foursquare about Rennes.\nI then applied the k-mean clustering algorithm on it only.\n\nI finally merge both dataset and applied once again the k-mean clustering algorithm.\n\nNow that I had done all this I was now able to examine my results and to draw some conclusions."
        }, 
        {
            "cell_type": "markdown", 
            "metadata": {}, 
            "source": "# Results "
        }, 
        {
            "cell_type": "markdown", 
            "metadata": {}, 
            "source": "First Lets see the repartition of the Neighbourhoods in the Great City of Rennes : \n\n![Image](https://github.com/olivedu35/Coursera/blob/master/Capture%20d\u2019\u00e9cran%202018-12-04%20\u00e0%2000.12.17.png?raw=true)"
        }, 
        {
            "cell_type": "markdown", 
            "metadata": {}, 
            "source": "Now let's see the clustering after applying our machine learning algorithm on Rennes Open Data website datasets only : \n![Image](https://github.com/olivedu35/Coursera/blob/master/Capture%20d\u2019\u00e9cran%202018-12-04%20\u00e0%2000.12.45.png?raw=true)"
        }, 
        {
            "cell_type": "markdown", 
            "metadata": {}, 
            "source": "We can now appreciate the clustering after Applying the Machine learning algorithm on Frousquare Datas. \nSadly, due to the lack of data on Foursquare, one Neighbourhood is not even appearing : \n![Image](https://github.com/olivedu35/Coursera/blob/master/Capture%20d\u2019\u00e9cran%202018-12-04%20\u00e0%2000.12.58.png?raw=true)"
        }, 
        {
            "cell_type": "markdown", 
            "metadata": {}, 
            "source": "Finally, lets see the clustering after the merging of the two data sets : \n![Image](https://github.com/olivedu35/Coursera/blob/master/Capture%20d\u2019\u00e9cran%202018-12-04%20\u00e0%2000.13.16.png?raw=true)"
        }, 
        {
            "cell_type": "markdown", 
            "metadata": {}, 
            "source": "The first thing we can see is that the clustering on datas from Rennes Open Data website and the clustering from the data of Rennes Open Data website and Foursquare API combined, are exactly the same. Which is meaning that the lack of datas from Foursquare API for the city of Rennes, is totaly immerged into the datasets of Rennes Open Data website. This is quite sad but there is indeed only 100 venues that are existing for the city of Rennes on Foursquare, and the more than 4500 points of interest that are coming from the Rennes Open Data website. This is clearly the reason why clustering is the same for the dataset with and without Foursquare API datas.\n\nLet's now examine the different custers :"
        }, 
        {
            "cell_type": "markdown", 
            "metadata": {}, 
            "source": "\n![Image](https://github.com/olivedu35/Coursera/blob/master/Cluster%200.png?raw=true)\n\n![Image](https://github.com/olivedu35/Coursera/blob/master/Cluster%201.png?raw=true)\n\n![Image](https://github.com/olivedu35/Coursera/blob/master/Cluster%202.png?raw=true)\n\n![Image](https://github.com/olivedu35/Coursera/blob/master/Cluster%203.png?raw=true)\n\n![Image](https://github.com/olivedu35/Coursera/blob/master/Cluster%204.png?raw=true)"
        }, 
        {
            "cell_type": "markdown", 
            "metadata": {}, 
            "source": "# Discussion\nsection where you discuss any observations you noted and any recommendations you can make based on the results."
        }, 
        {
            "cell_type": "markdown", 
            "metadata": {}, 
            "source": ""
        }, 
        {
            "cell_type": "markdown", 
            "metadata": {}, 
            "source": "# Conclusion\nsection where you conclude the report."
        }
    ], 
    "nbformat": 4, 
    "metadata": {
        "kernelspec": {
            "display_name": "Python 3.5", 
            "name": "python3", 
            "language": "python"
        }, 
        "language_info": {
            "mimetype": "text/x-python", 
            "nbconvert_exporter": "python", 
            "file_extension": ".py", 
            "name": "python", 
            "pygments_lexer": "ipython3", 
            "version": "3.5.5", 
            "codemirror_mode": {
                "version": 3, 
                "name": "ipython"
            }
        }
    }, 
    "nbformat_minor": 1
}