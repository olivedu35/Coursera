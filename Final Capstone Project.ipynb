{
 "cells": [
  {
   "cell_type": "markdown",
   "metadata": {},
   "source": [
    "# Clustering and segmenting Neighborhood in Rennes, France"
   ]
  },
  {
   "cell_type": "markdown",
   "metadata": {},
   "source": [
    "## Introduction / Business Problem"
   ]
  },
  {
   "cell_type": "markdown",
   "metadata": {},
   "source": [
    "Rennes is my birth city and was quite in advance on its time by giving open datas to the people since at least ten years. Now, there is lots of data from the city of Rennes and other contractors that have business in Rennes. Like for example the company that run the bus in Rennes has some API to get datas about them. Bus stop location, real time traffic, etc..\n",
    "\n",
    "Our objectif in this project is to cluster Rennes Neighborhood using foursquare and using datas from the city of Rennes.\n",
    "\n",
    "We use foursquare API but we also add data about transportation of Rennes city.\n",
    "\n",
    "Then we try to analyse cluster predicted and assigned them to groups of people. \n",
    "\n",
    "Overall business objectif  is to direct people/businesses, that are looking to settle in Rennes, into the good neighborhood."
   ]
  },
  {
   "cell_type": "markdown",
   "metadata": {},
   "source": [
    "## Data"
   ]
  },
  {
   "cell_type": "markdown",
   "metadata": {},
   "source": [
    "In order to complete out goals, two source of datas are going to be used : \n",
    "- Foursquare API\n",
    "- Rennes' datasets\n",
    "\n",
    "All datas are quite easily available. Biggest challenge is to find out the neighborhood and assign each venue, structure, etc.. to the correct neighborhood.\n"
   ]
  },
  {
   "cell_type": "markdown",
   "metadata": {},
   "source": [
    "### Foursquare API"
   ]
  },
  {
   "cell_type": "markdown",
   "metadata": {},
   "source": [
    "Foursquare is a social location service that allows users to explore the world around them. They are at this time able to review locations in which they come and go and give a notation and a comment about this place. \n",
    "\n",
    "The Foursquare API allows application developers to interact with the Foursquare platform. We can retrieve venues and all the details about it (notations, comments, users, etc..), but also details about users.\n",
    "\n",
    "In order to cluster our neighborhood, we will use Foursquare API to have data about Rennes locations and venues.\n",
    "We will then be able to link top 10 venues to each neighborhood."
   ]
  },
  {
   "cell_type": "markdown",
   "metadata": {},
   "source": [
    "### Rennes' datasets"
   ]
  },
  {
   "cell_type": "markdown",
   "metadata": {},
   "source": [
    "In addition to the Foursquare venues, we will add transport informations to our neighborhood : \n",
    "- Number of Bus stops\n",
    "- Number of charger for electric vehicles\n",
    "- Number of kilometers of paid parking\n",
    "- Number of bike supports\n",
    "- Number of kilometers of bike ways\n",
    "- Number of culture equipment\n",
    "\n",
    "Each of these datasets are coming from Rennes Open Data Services. We downloaded some csv files containing informations about Rennes and others cities surrounding Rennes. Each equipment, location, etc. is coming with a Latitude and a Longitude. for simplicity purpose, we will use in this study only the informations concerning Rennes. \n",
    "\n",
    "In Rennes Open Datas Services we were also able to find on very important dataset, which is the one that cut Rennes into neighborhood.\n",
    "\n",
    "Thanksfully Rennes is a quite small city compared to New York and Toronto, so we do not need to cut down the numbers of neighborhood.\n",
    "\n",
    "In order to analyse our clusters, we also have datas about : \n",
    "- Sexe, age and nationality of population in Rennes\n",
    "- Seniority of habitants of Rennes\n",
    "\n",
    "We will use these datas to see if our analysis is correct at the end of the project. \n",
    "We will indeed be able to see if habitants of a neighbourhood are concording with the analysis we made about each clusters we created."
   ]
  }
 ],
 "metadata": {
  "kernelspec": {
   "display_name": "Python 3",
   "language": "python",
   "name": "python3"
  },
  "language_info": {
   "codemirror_mode": {
    "name": "ipython",
    "version": 3
   },
   "file_extension": ".py",
   "mimetype": "text/x-python",
   "name": "python",
   "nbconvert_exporter": "python",
   "pygments_lexer": "ipython3",
   "version": "3.6.5"
  }
 },
 "nbformat": 4,
 "nbformat_minor": 2
}
