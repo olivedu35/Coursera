{
    "nbformat": 4, 
    "metadata": {
        "language_info": {
            "pygments_lexer": "ipython3", 
            "file_extension": ".py", 
            "mimetype": "text/x-python", 
            "codemirror_mode": {
                "name": "ipython", 
                "version": 3
            }, 
            "version": "3.5.5", 
            "name": "python", 
            "nbconvert_exporter": "python"
        }, 
        "kernelspec": {
            "name": "python3", 
            "language": "python", 
            "display_name": "Python 3.5"
        }
    }, 
    "cells": [
        {
            "source": "# Clustering and segmenting Neighborhood in Rennes, France", 
            "metadata": {}, 
            "cell_type": "markdown"
        }, 
        {
            "source": "## Introduction / Business Problem", 
            "metadata": {}, 
            "cell_type": "markdown"
        }, 
        {
            "source": "Rennes is my birth city and was quite in advance on its time by giving open datas to the people since at least ten years. Now, there is lots of data from the city of Rennes and other contractors that have business in Rennes. Like for example the company that run the bus in Rennes has some API to get datas about them. Bus stop location, real time traffic, etc..\n\nOur objectif in this project is to cluster Rennes Neighborhood using foursquare and using datas from the city of Rennes.\n\nWe use foursquare API but we also add data about transportation of Rennes city.\n\nThen we try to analyse cluster predicted and assigned them to groups of people. \n\nOverall business objectif  is to direct people/businesses, that are looking to settle in Rennes, into the good neighborhood.", 
            "metadata": {}, 
            "cell_type": "markdown"
        }, 
        {
            "source": "## Data", 
            "metadata": {}, 
            "cell_type": "markdown"
        }, 
        {
            "source": "In order to complete out goals, two source of datas are going to be used : \n- Foursquare API\n- Rennes' datasets\n\nAll datas are quite easily available. Biggest challenge is to find out the neighborhood and assign each venue, structure, etc.. to the correct neighborhood.\n", 
            "metadata": {}, 
            "cell_type": "markdown"
        }, 
        {
            "source": "### Foursquare API", 
            "metadata": {}, 
            "cell_type": "markdown"
        }, 
        {
            "source": "Foursquare is a social location service that allows users to explore the world around them. They are at this time able to review locations in which they come and go and give a notation and a comment about this place. \n\nThe Foursquare API allows application developers to interact with the Foursquare platform. We can retrieve venues and all the details about it (notations, comments, users, etc..), but also details about users.\n\nIn order to cluster our neighborhood, we will use Foursquare API to have data about Rennes locations and venues.\nWe will then be able to link top 10 venues to each neighborhood.", 
            "metadata": {}, 
            "cell_type": "markdown"
        }, 
        {
            "source": "### Rennes' datasets", 
            "metadata": {}, 
            "cell_type": "markdown"
        }, 
        {
            "source": "In addition to the Foursquare venues, we will add transport informations to our neighborhood : \n- Number of Bus stops\n- Number of charger for electric vehicles\n- Number of kilometers of paid parking\n- Number of bike supports\n- Number of kilometers of bike ways\n- Number of culture equipment\n\nEach of these datasets are coming from Rennes Open Data Services. We downloaded some csv files containing informations about Rennes and others cities surrounding Rennes. Each equipment, location, etc. is coming with a Latitude and a Longitude. for simplicity purpose, we will use in this study only the informations concerning Rennes. \n\nIn Rennes Open Datas Services we were also able to find on very important dataset, which is the one that cut Rennes into neighborhood.\n\nThanksfully Rennes is a quite small city compared to New York and Toronto, so we do not need to cut down the numbers of neighborhood.\n\nIn order to analyse our clusters, we also have datas about : \n- Sexe, age and nationality of population in Rennes\n- Seniority of habitants of Rennes\n\nWe will use these datas to see if our analysis is correct at the end of the project. \nWe will indeed be able to see if habitants of a neighbourhood are concording with the analysis we made about each clusters we created.", 
            "metadata": {}, 
            "cell_type": "markdown"
        }, 
        {
            "source": "# Notebook", 
            "metadata": {}, 
            "cell_type": "markdown"
        }, 
        {
            "source": "## Data import", 
            "metadata": {}, 
            "cell_type": "markdown"
        }, 
        {
            "source": "First we import all the libraries needed", 
            "metadata": {}, 
            "cell_type": "markdown"
        }, 
        {
            "source": "import pandas as pd\nimport numpy as np\nimport json # library to handle JSON files\nfrom math import *\n\n!conda install -c conda-forge geopy --yes # uncomment this line if you haven't completed the Foursquare API lab\nfrom geopy.geocoders import Nominatim # convert an address into latitude and longitude values\n\n\nfrom pandas.io.json import json_normalize # tranform JSON file into a pandas dataframe\n\n# Matplotlib and associated plotting modules\nimport matplotlib.cm as cm\nimport matplotlib.colors as colors\n\n# import k-means from clustering stage\nfrom sklearn.cluster import KMeans\n\n!conda install -c conda-forge folium=0.5.0 --yes # uncomment this line if you haven't completed the Foursquare API lab\nimport folium # map rendering library\n\nprint('Libraries imported.')", 
            "outputs": [
                {
                    "name": "stdout", 
                    "text": "Fetching package metadata .............\nSolving package specifications: .\n\n# All requested packages already installed.\n# packages in environment at /opt/conda/envs/DSX-Python35:\n#\ngeopy                     1.17.0                     py_0    conda-forge\nFetching package metadata .............\nSolving package specifications: .\n\n# All requested packages already installed.\n# packages in environment at /opt/conda/envs/DSX-Python35:\n#\nfolium                    0.5.0                      py_0    conda-forge\nLibraries imported.\n", 
                    "output_type": "stream"
                }
            ], 
            "execution_count": 1, 
            "cell_type": "code", 
            "metadata": {}
        }, 
        {
            "source": "After this we define this little function that will help us compute distance between two points defined with Longitude and Latitude. This will be very helpfull for us in order to define the appartenance of an object (bus stop, electric car charger, etc.) to a neighbourhood.", 
            "metadata": {}, 
            "cell_type": "markdown"
        }, 
        {
            "source": "def haversine(lon1, lat1, lon2, lat2):\n\n    lon1, lat1, lon2, lat2 = map(radians, [lon1, lat1, lon2, lat2])\n\n    # haversine formula \n    dlon = lon2 - lon1 \n    dlat = lat2 - lat1 \n    a = sin(dlat/2)**2 + cos(lat1) * cos(lat2) * sin(dlon/2)**2\n    c = 2 * asin(sqrt(a)) \n    r = 6371 # Radius of earth in kilometers. Use 3956 for miles\n    return c * r", 
            "outputs": [], 
            "execution_count": 2, 
            "cell_type": "code", 
            "metadata": {}
        }, 
        {
            "source": "## Neighbourhood\n\nFirst we import the Neighbourhood of Rennes. We downloaded csv files from Rennes Open Data website into the Watson Studio. We use the code provided by IBM to import the data into the notebook. After This we only remove the unused column and we keep only the Latitude and Longitude (as floats), and of course the name of the neighbourhood.", 
            "metadata": {}, 
            "cell_type": "markdown"
        }, 
        {
            "source": "# The code was removed by Watson Studio for sharing.", 
            "outputs": [
                {
                    "output_type": "execute_result", 
                    "execution_count": 3, 
                    "data": {
                        "text/plain": "                         nom        lat      long\n0                  Le Blosne  48.085013 -1.658945\n1  Cleunay - Arsenal - Redon  48.095816 -1.722033\n2               Saint Martin  48.126865 -1.683262\n3     Villejean - Beauregard  48.129004 -1.711953\n4                  Br\u00e9quigny  48.086038 -1.685403", 
                        "text/html": "<div>\n<style scoped>\n    .dataframe tbody tr th:only-of-type {\n        vertical-align: middle;\n    }\n\n    .dataframe tbody tr th {\n        vertical-align: top;\n    }\n\n    .dataframe thead th {\n        text-align: right;\n    }\n</style>\n<table border=\"1\" class=\"dataframe\">\n  <thead>\n    <tr style=\"text-align: right;\">\n      <th></th>\n      <th>nom</th>\n      <th>lat</th>\n      <th>long</th>\n    </tr>\n  </thead>\n  <tbody>\n    <tr>\n      <th>0</th>\n      <td>Le Blosne</td>\n      <td>48.085013</td>\n      <td>-1.658945</td>\n    </tr>\n    <tr>\n      <th>1</th>\n      <td>Cleunay - Arsenal - Redon</td>\n      <td>48.095816</td>\n      <td>-1.722033</td>\n    </tr>\n    <tr>\n      <th>2</th>\n      <td>Saint Martin</td>\n      <td>48.126865</td>\n      <td>-1.683262</td>\n    </tr>\n    <tr>\n      <th>3</th>\n      <td>Villejean - Beauregard</td>\n      <td>48.129004</td>\n      <td>-1.711953</td>\n    </tr>\n    <tr>\n      <th>4</th>\n      <td>Br\u00e9quigny</td>\n      <td>48.086038</td>\n      <td>-1.685403</td>\n    </tr>\n  </tbody>\n</table>\n</div>"
                    }, 
                    "metadata": {}
                }
            ], 
            "execution_count": 3, 
            "cell_type": "code", 
            "metadata": {}
        }, 
        {
            "source": "Let's see this on the map : ", 
            "metadata": {}, 
            "cell_type": "markdown"
        }, 
        {
            "source": "latitude = 48.117266\nlongitude = -1.6777926\n\n# create map of NToronto using latitude and longitude values\nmap_rennes = folium.Map(location=[latitude, longitude], zoom_start=12)\n\n# add markers to map\nfor lat, lng, neighborhood in zip(rennes_neighbourhood['lat'], rennes_neighbourhood['long'], rennes_neighbourhood['nom']):\n    label = '{}'.format(neighborhood)\n    label = folium.Popup(label, parse_html=True)\n    folium.CircleMarker(\n        [lat, lng],\n        radius=5,\n        popup=label,\n        color='blue',\n        fill=True,\n        fill_color='#3186cc',\n        fill_opacity=0.7,\n        parse_html=False).add_to(map_rennes)  \n    \nmap_rennes", 
            "outputs": [
                {
                    "output_type": "execute_result", 
                    "execution_count": 4, 
                    "data": {
                        "text/plain": "<folium.folium.Map at 0x7fafc83a66a0>", 
                        "text/html": "<div style=\"width:100%;\"><div style=\"position:relative;width:100%;height:0;padding-bottom:60%;\"><iframe src=\"data:text/html;charset=utf-8;base64,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\" style=\"position:absolute;width:100%;height:100%;left:0;top:0;border:none !important;\" allowfullscreen webkitallowfullscreen mozallowfullscreen></iframe></div></div>"
                    }, 
                    "metadata": {}
                }
            ], 
            "execution_count": 4, 
            "cell_type": "code", 
            "metadata": {}
        }, 
        {
            "source": "## Other Datas from Rennes Open Data Website :\n\nIn all the datas that we will get in this section, we will remove unused columns and keep a column with the equipment name, the longitude and the latitude as float and we will add a column full of Nan named Neighbourhood in order to class each object into a neighbourhood later. And then we will show the head.\n\nAlso for simplicity we only keep datas from the city of Rennes only, as in some data frames, their is data of suburb of Rennes that we remove.", 
            "metadata": {}, 
            "cell_type": "markdown"
        }, 
        {
            "source": "### Electric Car Charger", 
            "metadata": {}, 
            "cell_type": "markdown"
        }, 
        {
            "source": "body = client_2551b64066e74033992250268342bdad.get_object(Bucket='courseraproject-donotdelete-pr-pstz2scfjmnlsh',Key='bornes-de-recharge-dediees-aux-vehicules-electriques-sur-le-territoire-de-rennes.csv')['Body']\n# add missing __iter__ method, so pandas accepts body as file-like object\nif not hasattr(body, \"__iter__\"): body.__iter__ = types.MethodType( __iter__, body )\n\nelectric_car_charger = pd.read_csv(body,delimiter=';')\nelectric_car_charger['addr'], electric_car_charger['town'] = electric_car_charger['site_adr'].str.split(',').str\nelectric_car_charger = electric_car_charger.loc[electric_car_charger['town'] == ' Rennes']\nelectric_car_charger['lat'], electric_car_charger['long'] = electric_car_charger['Geo Point'].str.split(',').str\nelectric_car_charger = electric_car_charger[['lat','long']]\nelectric_car_charger['Equipment'] = 'electric car charger'\nelectric_car_charger.head()", 
            "outputs": [
                {
                    "output_type": "execute_result", 
                    "execution_count": 5, 
                    "data": {
                        "text/plain": "             lat             long             Equipment\n2  48.1061492349   -1.67716224362  electric car charger\n3  48.1109995579    -1.6836300089  electric car charger\n4  48.1305281329    -1.6383229456  electric car charger\n6  48.0924137533     -1.674211241  electric car charger\n7  48.1135228591   -1.68623278686  electric car charger", 
                        "text/html": "<div>\n<style scoped>\n    .dataframe tbody tr th:only-of-type {\n        vertical-align: middle;\n    }\n\n    .dataframe tbody tr th {\n        vertical-align: top;\n    }\n\n    .dataframe thead th {\n        text-align: right;\n    }\n</style>\n<table border=\"1\" class=\"dataframe\">\n  <thead>\n    <tr style=\"text-align: right;\">\n      <th></th>\n      <th>lat</th>\n      <th>long</th>\n      <th>Equipment</th>\n    </tr>\n  </thead>\n  <tbody>\n    <tr>\n      <th>2</th>\n      <td>48.1061492349</td>\n      <td>-1.67716224362</td>\n      <td>electric car charger</td>\n    </tr>\n    <tr>\n      <th>3</th>\n      <td>48.1109995579</td>\n      <td>-1.6836300089</td>\n      <td>electric car charger</td>\n    </tr>\n    <tr>\n      <th>4</th>\n      <td>48.1305281329</td>\n      <td>-1.6383229456</td>\n      <td>electric car charger</td>\n    </tr>\n    <tr>\n      <th>6</th>\n      <td>48.0924137533</td>\n      <td>-1.674211241</td>\n      <td>electric car charger</td>\n    </tr>\n    <tr>\n      <th>7</th>\n      <td>48.1135228591</td>\n      <td>-1.68623278686</td>\n      <td>electric car charger</td>\n    </tr>\n  </tbody>\n</table>\n</div>"
                    }, 
                    "metadata": {}
                }
            ], 
            "execution_count": 5, 
            "cell_type": "code", 
            "metadata": {}
        }, 
        {
            "source": "### Bus stops", 
            "metadata": {}, 
            "cell_type": "markdown"
        }, 
        {
            "source": "body = client_2551b64066e74033992250268342bdad.get_object(Bucket='courseraproject-donotdelete-pr-pstz2scfjmnlsh',Key='equipement-accessibilite-arrets-bus.csv')['Body']\n# add missing __iter__ method, so pandas accepts body as file-like object\nif not hasattr(body, \"__iter__\"): body.__iter__ = types.MethodType( __iter__, body )\n\nbus_stop = pd.read_csv(body,delimiter=';')\nbus_stop = bus_stop.loc[bus_stop['Commune (nom)'] == 'Rennes']\nbus_stop['lat'], bus_stop['long'] = bus_stop['Coordonn\u00e9es'].str.split(',').str\nbus_stop = bus_stop[['lat','long']]\nbus_stop['Equipment'] = 'bus stop'\nbus_stop.head()", 
            "outputs": [
                {
                    "output_type": "execute_result", 
                    "execution_count": 6, 
                    "data": {
                        "text/plain": "         lat        long Equipment\n0  48.127369   -1.640433  bus stop\n1  48.121446   -1.655036  bus stop\n2  48.119241   -1.667693  bus stop\n3   48.11605   -1.674245  bus stop\n4   48.11252   -1.680352  bus stop", 
                        "text/html": "<div>\n<style scoped>\n    .dataframe tbody tr th:only-of-type {\n        vertical-align: middle;\n    }\n\n    .dataframe tbody tr th {\n        vertical-align: top;\n    }\n\n    .dataframe thead th {\n        text-align: right;\n    }\n</style>\n<table border=\"1\" class=\"dataframe\">\n  <thead>\n    <tr style=\"text-align: right;\">\n      <th></th>\n      <th>lat</th>\n      <th>long</th>\n      <th>Equipment</th>\n    </tr>\n  </thead>\n  <tbody>\n    <tr>\n      <th>0</th>\n      <td>48.127369</td>\n      <td>-1.640433</td>\n      <td>bus stop</td>\n    </tr>\n    <tr>\n      <th>1</th>\n      <td>48.121446</td>\n      <td>-1.655036</td>\n      <td>bus stop</td>\n    </tr>\n    <tr>\n      <th>2</th>\n      <td>48.119241</td>\n      <td>-1.667693</td>\n      <td>bus stop</td>\n    </tr>\n    <tr>\n      <th>3</th>\n      <td>48.11605</td>\n      <td>-1.674245</td>\n      <td>bus stop</td>\n    </tr>\n    <tr>\n      <th>4</th>\n      <td>48.11252</td>\n      <td>-1.680352</td>\n      <td>bus stop</td>\n    </tr>\n  </tbody>\n</table>\n</div>"
                    }, 
                    "metadata": {}
                }
            ], 
            "execution_count": 6, 
            "cell_type": "code", 
            "metadata": {}
        }, 
        {
            "source": "### Bike Stops\n\nFor this one we keep the number of support at each point in order to sum them up later.", 
            "metadata": {}, 
            "cell_type": "markdown"
        }, 
        {
            "source": "body = client_2551b64066e74033992250268342bdad.get_object(Bucket='courseraproject-donotdelete-pr-pstz2scfjmnlsh',Key='supports-velos.csv')['Body']\n# add missing __iter__ method, so pandas accepts body as file-like object\nif not hasattr(body, \"__iter__\"): body.__iter__ = types.MethodType( __iter__, body )\n\nbike_stops = pd.read_csv(body,delimiter=';')\nbike_stops = bike_stops.loc[bike_stops['nom_commune'] == 'Rennes']\nbike_stops['lat'], bike_stops['long'] = bike_stops['Geo Point'].str.split(',').str\nbike_stops = bike_stops[['nombre_support', 'lat', 'long']]\nbike_stops['Equipment'] = 'bike stops'\nbike_stops.head()", 
            "outputs": [
                {
                    "output_type": "execute_result", 
                    "execution_count": 7, 
                    "data": {
                        "text/plain": "   nombre_support            lat             long   Equipment\n0               4  48.1174872812    -1.6777579592  bike stops\n1               5  48.1098139465   -1.67522515707  bike stops\n2               8  48.1096012826   -1.67985481523  bike stops\n3               5   48.113188555   -1.67762495861  bike stops\n4               4  48.0859188837   -1.64220623748  bike stops", 
                        "text/html": "<div>\n<style scoped>\n    .dataframe tbody tr th:only-of-type {\n        vertical-align: middle;\n    }\n\n    .dataframe tbody tr th {\n        vertical-align: top;\n    }\n\n    .dataframe thead th {\n        text-align: right;\n    }\n</style>\n<table border=\"1\" class=\"dataframe\">\n  <thead>\n    <tr style=\"text-align: right;\">\n      <th></th>\n      <th>nombre_support</th>\n      <th>lat</th>\n      <th>long</th>\n      <th>Equipment</th>\n    </tr>\n  </thead>\n  <tbody>\n    <tr>\n      <th>0</th>\n      <td>4</td>\n      <td>48.1174872812</td>\n      <td>-1.6777579592</td>\n      <td>bike stops</td>\n    </tr>\n    <tr>\n      <th>1</th>\n      <td>5</td>\n      <td>48.1098139465</td>\n      <td>-1.67522515707</td>\n      <td>bike stops</td>\n    </tr>\n    <tr>\n      <th>2</th>\n      <td>8</td>\n      <td>48.1096012826</td>\n      <td>-1.67985481523</td>\n      <td>bike stops</td>\n    </tr>\n    <tr>\n      <th>3</th>\n      <td>5</td>\n      <td>48.113188555</td>\n      <td>-1.67762495861</td>\n      <td>bike stops</td>\n    </tr>\n    <tr>\n      <th>4</th>\n      <td>4</td>\n      <td>48.0859188837</td>\n      <td>-1.64220623748</td>\n      <td>bike stops</td>\n    </tr>\n  </tbody>\n</table>\n</div>"
                    }, 
                    "metadata": {}
                }
            ], 
            "execution_count": 7, 
            "cell_type": "code", 
            "metadata": {}
        }, 
        {
            "source": "### Cultural equipment\n\nFor this one, name of the neighbourhood is already included. We do not even need to keep Latitude and Longitude.", 
            "metadata": {}, 
            "cell_type": "markdown"
        }, 
        {
            "source": "body = client_2551b64066e74033992250268342bdad.get_object(Bucket='courseraproject-donotdelete-pr-pstz2scfjmnlsh',Key='liste-des-equipements-et-organismes-culturels-de-rennes-metropole.csv')['Body']\n# add missing __iter__ method, so pandas accepts body as file-like object\nif not hasattr(body, \"__iter__\"): body.__iter__ = types.MethodType( __iter__, body )\n\ncultural_equipment = pd.read_csv(body,delimiter=';')\ncultural_equipment = cultural_equipment.loc[cultural_equipment['CommuneNom'] == 'Rennes']\ncultural_equipment['Equipment'] = 'Cultural equipement'\ncultural_equipment['Neighbourhood'] = cultural_equipment['QuarNom']\ncultural_equipment = cultural_equipment[['Equipment','Neighbourhood']]\n\ncultural_equipment.head()", 
            "outputs": [
                {
                    "output_type": "execute_result", 
                    "execution_count": 8, 
                    "data": {
                        "text/plain": "             Equipment                             Neighbourhood\n0  Cultural equipement                                    Centre\n1  Cultural equipement  Thabor - Saint-H\u00e9lier -  Alphonse Gu\u00e9rin\n2  Cultural equipement                   Maurepas - Bellangerais\n3  Cultural equipement                   Maurepas - Bellangerais\n4  Cultural equipement    Jeanne d'Arc - Longs Champs - Beaulieu", 
                        "text/html": "<div>\n<style scoped>\n    .dataframe tbody tr th:only-of-type {\n        vertical-align: middle;\n    }\n\n    .dataframe tbody tr th {\n        vertical-align: top;\n    }\n\n    .dataframe thead th {\n        text-align: right;\n    }\n</style>\n<table border=\"1\" class=\"dataframe\">\n  <thead>\n    <tr style=\"text-align: right;\">\n      <th></th>\n      <th>Equipment</th>\n      <th>Neighbourhood</th>\n    </tr>\n  </thead>\n  <tbody>\n    <tr>\n      <th>0</th>\n      <td>Cultural equipement</td>\n      <td>Centre</td>\n    </tr>\n    <tr>\n      <th>1</th>\n      <td>Cultural equipement</td>\n      <td>Thabor - Saint-H\u00e9lier -  Alphonse Gu\u00e9rin</td>\n    </tr>\n    <tr>\n      <th>2</th>\n      <td>Cultural equipement</td>\n      <td>Maurepas - Bellangerais</td>\n    </tr>\n    <tr>\n      <th>3</th>\n      <td>Cultural equipement</td>\n      <td>Maurepas - Bellangerais</td>\n    </tr>\n    <tr>\n      <th>4</th>\n      <td>Cultural equipement</td>\n      <td>Jeanne d'Arc - Longs Champs - Beaulieu</td>\n    </tr>\n  </tbody>\n</table>\n</div>"
                    }, 
                    "metadata": {}
                }
            ], 
            "execution_count": 8, 
            "cell_type": "code", 
            "metadata": {}
        }, 
        {
            "source": "### Green Roads", 
            "metadata": {}, 
            "cell_type": "markdown"
        }, 
        {
            "source": "body = client_2551b64066e74033992250268342bdad.get_object(Bucket='courseraproject-donotdelete-pr-pstz2scfjmnlsh',Key='amenagements-velo-et-zones-de-circulation-apaisee-sur-rennes-metropole.csv')['Body']\n# add missing __iter__ method, so pandas accepts body as file-like object\nif not hasattr(body, \"__iter__\"): body.__iter__ = types.MethodType( __iter__, body )\n\ngreen_roads = pd.read_csv(body,delimiter=';')\n\ngreen_roads = green_roads.loc[green_roads['c_insee'] == 35238.0]\ngreen_roads['lat'], green_roads['long'] = green_roads['Geo Point'].str.split(',').str\ngreen_roads = green_roads[['lat','long']]\ngreen_roads['Equipment'] = 'Green Roads'\ngreen_roads.head()", 
            "outputs": [
                {
                    "output_type": "execute_result", 
                    "execution_count": 9, 
                    "data": {
                        "text/plain": "             lat             long    Equipment\n0  48.1260914882   -1.63356338546  Green Roads\n1  48.1138992815   -1.67989604862  Green Roads\n2  48.1125929026   -1.68146027273  Green Roads\n3  48.1011841606   -1.67756709221  Green Roads\n4  48.0909412214   -1.66796278621  Green Roads", 
                        "text/html": "<div>\n<style scoped>\n    .dataframe tbody tr th:only-of-type {\n        vertical-align: middle;\n    }\n\n    .dataframe tbody tr th {\n        vertical-align: top;\n    }\n\n    .dataframe thead th {\n        text-align: right;\n    }\n</style>\n<table border=\"1\" class=\"dataframe\">\n  <thead>\n    <tr style=\"text-align: right;\">\n      <th></th>\n      <th>lat</th>\n      <th>long</th>\n      <th>Equipment</th>\n    </tr>\n  </thead>\n  <tbody>\n    <tr>\n      <th>0</th>\n      <td>48.1260914882</td>\n      <td>-1.63356338546</td>\n      <td>Green Roads</td>\n    </tr>\n    <tr>\n      <th>1</th>\n      <td>48.1138992815</td>\n      <td>-1.67989604862</td>\n      <td>Green Roads</td>\n    </tr>\n    <tr>\n      <th>2</th>\n      <td>48.1125929026</td>\n      <td>-1.68146027273</td>\n      <td>Green Roads</td>\n    </tr>\n    <tr>\n      <th>3</th>\n      <td>48.1011841606</td>\n      <td>-1.67756709221</td>\n      <td>Green Roads</td>\n    </tr>\n    <tr>\n      <th>4</th>\n      <td>48.0909412214</td>\n      <td>-1.66796278621</td>\n      <td>Green Roads</td>\n    </tr>\n  </tbody>\n</table>\n</div>"
                    }, 
                    "metadata": {}
                }
            ], 
            "execution_count": 9, 
            "cell_type": "code", 
            "metadata": {}
        }, 
        {
            "source": "### Paid Parking", 
            "metadata": {}, 
            "cell_type": "markdown"
        }, 
        {
            "source": "body = client_2551b64066e74033992250268342bdad.get_object(Bucket='courseraproject-donotdelete-pr-pstz2scfjmnlsh',Key='portions-de-voies-en-stationnement-payant-sur-la-ville-de-rennes.csv')['Body']\n# add missing __iter__ method, so pandas accepts body as file-like object\nif not hasattr(body, \"__iter__\"): body.__iter__ = types.MethodType( __iter__, body )\n\npaid_parking = pd.read_csv(body,delimiter=';')\npaid_parking['lat'], paid_parking['long'] = paid_parking['Geo Point'].str.split(',').str\npaid_parking = paid_parking[['lat','long']]\npaid_parking['Equipment'] = 'Parking'\npaid_parking.head()", 
            "outputs": [
                {
                    "output_type": "execute_result", 
                    "execution_count": 10, 
                    "data": {
                        "text/plain": "             lat             long Equipment\n0  48.1123867128   -1.66129260255   Parking\n1  48.1047938066   -1.69226198181   Parking\n2   48.109626229   -1.67280206572   Parking\n3  48.1041845846   -1.69095615868   Parking\n4  48.1060532383   -1.69053215943   Parking", 
                        "text/html": "<div>\n<style scoped>\n    .dataframe tbody tr th:only-of-type {\n        vertical-align: middle;\n    }\n\n    .dataframe tbody tr th {\n        vertical-align: top;\n    }\n\n    .dataframe thead th {\n        text-align: right;\n    }\n</style>\n<table border=\"1\" class=\"dataframe\">\n  <thead>\n    <tr style=\"text-align: right;\">\n      <th></th>\n      <th>lat</th>\n      <th>long</th>\n      <th>Equipment</th>\n    </tr>\n  </thead>\n  <tbody>\n    <tr>\n      <th>0</th>\n      <td>48.1123867128</td>\n      <td>-1.66129260255</td>\n      <td>Parking</td>\n    </tr>\n    <tr>\n      <th>1</th>\n      <td>48.1047938066</td>\n      <td>-1.69226198181</td>\n      <td>Parking</td>\n    </tr>\n    <tr>\n      <th>2</th>\n      <td>48.109626229</td>\n      <td>-1.67280206572</td>\n      <td>Parking</td>\n    </tr>\n    <tr>\n      <th>3</th>\n      <td>48.1041845846</td>\n      <td>-1.69095615868</td>\n      <td>Parking</td>\n    </tr>\n    <tr>\n      <th>4</th>\n      <td>48.1060532383</td>\n      <td>-1.69053215943</td>\n      <td>Parking</td>\n    </tr>\n  </tbody>\n</table>\n</div>"
                    }, 
                    "metadata": {}
                }
            ], 
            "execution_count": 10, 
            "cell_type": "code", 
            "metadata": {}
        }, 
        {
            "source": "Lets merge all of our Data Frames (except cultural equipment that we will add once we found the neigbourhood of each equipment).\nWe also make sure that latitude and longitude are floats.", 
            "metadata": {}, 
            "cell_type": "markdown"
        }, 
        {
            "source": "frames = [paid_parking, green_roads, bike_stops, bus_stop, electric_car_charger]\nequipments = pd.concat(frames)\nequipments['lat'] = equipments['lat'].astype(float)\nequipments['long'] = equipments['long'].astype(float)\nequipments = equipments.reset_index(drop=True)\nequipments.head()", 
            "outputs": [
                {
                    "output_type": "execute_result", 
                    "execution_count": 74, 
                    "data": {
                        "text/plain": "  Equipment        lat      long  nombre_support\n0   Parking  48.112387 -1.661293             NaN\n1   Parking  48.104794 -1.692262             NaN\n2   Parking  48.109626 -1.672802             NaN\n3   Parking  48.104185 -1.690956             NaN\n4   Parking  48.106053 -1.690532             NaN", 
                        "text/html": "<div>\n<style scoped>\n    .dataframe tbody tr th:only-of-type {\n        vertical-align: middle;\n    }\n\n    .dataframe tbody tr th {\n        vertical-align: top;\n    }\n\n    .dataframe thead th {\n        text-align: right;\n    }\n</style>\n<table border=\"1\" class=\"dataframe\">\n  <thead>\n    <tr style=\"text-align: right;\">\n      <th></th>\n      <th>Equipment</th>\n      <th>lat</th>\n      <th>long</th>\n      <th>nombre_support</th>\n    </tr>\n  </thead>\n  <tbody>\n    <tr>\n      <th>0</th>\n      <td>Parking</td>\n      <td>48.112387</td>\n      <td>-1.661293</td>\n      <td>NaN</td>\n    </tr>\n    <tr>\n      <th>1</th>\n      <td>Parking</td>\n      <td>48.104794</td>\n      <td>-1.692262</td>\n      <td>NaN</td>\n    </tr>\n    <tr>\n      <th>2</th>\n      <td>Parking</td>\n      <td>48.109626</td>\n      <td>-1.672802</td>\n      <td>NaN</td>\n    </tr>\n    <tr>\n      <th>3</th>\n      <td>Parking</td>\n      <td>48.104185</td>\n      <td>-1.690956</td>\n      <td>NaN</td>\n    </tr>\n    <tr>\n      <th>4</th>\n      <td>Parking</td>\n      <td>48.106053</td>\n      <td>-1.690532</td>\n      <td>NaN</td>\n    </tr>\n  </tbody>\n</table>\n</div>"
                    }, 
                    "metadata": {}
                }
            ], 
            "execution_count": 74, 
            "cell_type": "code", 
            "metadata": {}
        }, 
        {
            "source": "## Put equipment into Neighboorhood", 
            "metadata": {}, 
            "cell_type": "markdown"
        }, 
        {
            "source": "For simplicity reason we will assign the equipment to the closest neighbourhood.\n\nWe will create column with name of the Neighbourhood.\nFor the computation of the distances we use the fonction defined at the begining.\nWe will compute distance for each equipment from each neighbourhood.", 
            "metadata": {}, 
            "cell_type": "markdown"
        }, 
        {
            "source": "df = pd.get_dummies(rennes_neighbourhood,prefix='',prefix_sep='')\ndf.drop(df.index, inplace=True)\ndf = df.drop(['lat', 'long'], axis=1)\ndf.applymap(str)\nequipments = pd.concat([equipments, df], axis=1)\nequipments.head()", 
            "outputs": [
                {
                    "output_type": "execute_result", 
                    "execution_count": 75, 
                    "data": {
                        "text/plain": "  Equipment        lat      long  nombre_support  \\\n0   Parking  48.112387 -1.661293             NaN   \n1   Parking  48.104794 -1.692262             NaN   \n2   Parking  48.109626 -1.672802             NaN   \n3   Parking  48.104185 -1.690956             NaN   \n4   Parking  48.106053 -1.690532             NaN   \n\n   Bourg l'Evesque - La Touche - Moulin du Comte  Br\u00e9quigny  Centre  \\\n0                                            NaN        NaN     NaN   \n1                                            NaN        NaN     NaN   \n2                                            NaN        NaN     NaN   \n3                                            NaN        NaN     NaN   \n4                                            NaN        NaN     NaN   \n\n   Cleunay - Arsenal - Redon  Francisco Ferrer - Landry - Poterie  \\\n0                        NaN                                  NaN   \n1                        NaN                                  NaN   \n2                        NaN                                  NaN   \n3                        NaN                                  NaN   \n4                        NaN                                  NaN   \n\n   Jeanne d'Arc - Longs Champs - Beaulieu  Le Blosne  Maurepas - Bellangerais  \\\n0                                     NaN        NaN                      NaN   \n1                                     NaN        NaN                      NaN   \n2                                     NaN        NaN                      NaN   \n3                                     NaN        NaN                      NaN   \n4                                     NaN        NaN                      NaN   \n\n   Saint Martin  Sud gare  Thabor - Saint-H\u00e9lier - Alphonse Gu\u00e9rin  \\\n0           NaN       NaN                                      NaN   \n1           NaN       NaN                                      NaN   \n2           NaN       NaN                                      NaN   \n3           NaN       NaN                                      NaN   \n4           NaN       NaN                                      NaN   \n\n   Villejean - Beauregard  \n0                     NaN  \n1                     NaN  \n2                     NaN  \n3                     NaN  \n4                     NaN  ", 
                        "text/html": "<div>\n<style scoped>\n    .dataframe tbody tr th:only-of-type {\n        vertical-align: middle;\n    }\n\n    .dataframe tbody tr th {\n        vertical-align: top;\n    }\n\n    .dataframe thead th {\n        text-align: right;\n    }\n</style>\n<table border=\"1\" class=\"dataframe\">\n  <thead>\n    <tr style=\"text-align: right;\">\n      <th></th>\n      <th>Equipment</th>\n      <th>lat</th>\n      <th>long</th>\n      <th>nombre_support</th>\n      <th>Bourg l'Evesque - La Touche - Moulin du Comte</th>\n      <th>Br\u00e9quigny</th>\n      <th>Centre</th>\n      <th>Cleunay - Arsenal - Redon</th>\n      <th>Francisco Ferrer - Landry - Poterie</th>\n      <th>Jeanne d'Arc - Longs Champs - Beaulieu</th>\n      <th>Le Blosne</th>\n      <th>Maurepas - Bellangerais</th>\n      <th>Saint Martin</th>\n      <th>Sud gare</th>\n      <th>Thabor - Saint-H\u00e9lier - Alphonse Gu\u00e9rin</th>\n      <th>Villejean - Beauregard</th>\n    </tr>\n  </thead>\n  <tbody>\n    <tr>\n      <th>0</th>\n      <td>Parking</td>\n      <td>48.112387</td>\n      <td>-1.661293</td>\n      <td>NaN</td>\n      <td>NaN</td>\n      <td>NaN</td>\n      <td>NaN</td>\n      <td>NaN</td>\n      <td>NaN</td>\n      <td>NaN</td>\n      <td>NaN</td>\n      <td>NaN</td>\n      <td>NaN</td>\n      <td>NaN</td>\n      <td>NaN</td>\n      <td>NaN</td>\n    </tr>\n    <tr>\n      <th>1</th>\n      <td>Parking</td>\n      <td>48.104794</td>\n      <td>-1.692262</td>\n      <td>NaN</td>\n      <td>NaN</td>\n      <td>NaN</td>\n      <td>NaN</td>\n      <td>NaN</td>\n      <td>NaN</td>\n      <td>NaN</td>\n      <td>NaN</td>\n      <td>NaN</td>\n      <td>NaN</td>\n      <td>NaN</td>\n      <td>NaN</td>\n      <td>NaN</td>\n    </tr>\n    <tr>\n      <th>2</th>\n      <td>Parking</td>\n      <td>48.109626</td>\n      <td>-1.672802</td>\n      <td>NaN</td>\n      <td>NaN</td>\n      <td>NaN</td>\n      <td>NaN</td>\n      <td>NaN</td>\n      <td>NaN</td>\n      <td>NaN</td>\n      <td>NaN</td>\n      <td>NaN</td>\n      <td>NaN</td>\n      <td>NaN</td>\n      <td>NaN</td>\n      <td>NaN</td>\n    </tr>\n    <tr>\n      <th>3</th>\n      <td>Parking</td>\n      <td>48.104185</td>\n      <td>-1.690956</td>\n      <td>NaN</td>\n      <td>NaN</td>\n      <td>NaN</td>\n      <td>NaN</td>\n      <td>NaN</td>\n      <td>NaN</td>\n      <td>NaN</td>\n      <td>NaN</td>\n      <td>NaN</td>\n      <td>NaN</td>\n      <td>NaN</td>\n      <td>NaN</td>\n      <td>NaN</td>\n    </tr>\n    <tr>\n      <th>4</th>\n      <td>Parking</td>\n      <td>48.106053</td>\n      <td>-1.690532</td>\n      <td>NaN</td>\n      <td>NaN</td>\n      <td>NaN</td>\n      <td>NaN</td>\n      <td>NaN</td>\n      <td>NaN</td>\n      <td>NaN</td>\n      <td>NaN</td>\n      <td>NaN</td>\n      <td>NaN</td>\n      <td>NaN</td>\n      <td>NaN</td>\n      <td>NaN</td>\n    </tr>\n  </tbody>\n</table>\n</div>"
                    }, 
                    "metadata": {}
                }
            ], 
            "execution_count": 75, 
            "cell_type": "code", 
            "metadata": {}
        }, 
        {
            "source": "# Version that should be faster\ncheck_distance = equipments.copy()\n\nfor i in rennes_neighbourhood.index:\n    check_distance['Neighbourhood']=rennes_neighbourhood.at(i,'nom')\n    check_distance['Neighbourhood_lat']=rennes_neighbourhood.at(i,'lat')\n    check_distance['Neighbourhood_long']=rennes_neighbourhood.at(i,'long')\n    check_distance['dist_from_Neighbourhood']= check_distance.apply(lambda row: haversine(row['Neighbourhood_long'], \n                                            row['Neighbourhood_lat'], \n                                            row['long'], \n                                            row['lat']), axis=1)\n    \n    print(rennes_neighbourhood.at(i,'nom'))\n    for j in check_distance.index: \n        equipments.loc[j,check_distance.loc[j,'Neighbourhood']] = check_distance.loc[j,'dist_from_Neighbourhood']\n    \n    print(rennes_neighbourhood.at(i,'nom'))\nequipments.head()", 
            "outputs": [
                {
                    "name": "stderr", 
                    "text": "/opt/conda/envs/DSX-Python35/lib/python3.5/site-packages/ipykernel/__main__.py:5: FutureWarning: get_value is deprecated and will be removed in a future release. Please use .at[] or .iat[] accessors instead\n/opt/conda/envs/DSX-Python35/lib/python3.5/site-packages/ipykernel/__main__.py:6: FutureWarning: get_value is deprecated and will be removed in a future release. Please use .at[] or .iat[] accessors instead\n/opt/conda/envs/DSX-Python35/lib/python3.5/site-packages/ipykernel/__main__.py:7: FutureWarning: get_value is deprecated and will be removed in a future release. Please use .at[] or .iat[] accessors instead\n/opt/conda/envs/DSX-Python35/lib/python3.5/site-packages/ipykernel/__main__.py:13: FutureWarning: get_value is deprecated and will be removed in a future release. Please use .at[] or .iat[] accessors instead\n", 
                    "output_type": "stream"
                }, 
                {
                    "name": "stdout", 
                    "text": "Le Blosne\n", 
                    "output_type": "stream"
                }, 
                {
                    "name": "stderr", 
                    "text": "/opt/conda/envs/DSX-Python35/lib/python3.5/site-packages/ipykernel/__main__.py:17: FutureWarning: get_value is deprecated and will be removed in a future release. Please use .at[] or .iat[] accessors instead\n", 
                    "output_type": "stream"
                }, 
                {
                    "name": "stdout", 
                    "text": "Le Blosne\nCleunay - Arsenal - Redon\nCleunay - Arsenal - Redon\nSaint Martin\nSaint Martin\nVillejean - Beauregard\nVillejean - Beauregard\nBr\u00e9quigny\nBr\u00e9quigny\nJeanne d'Arc - Longs Champs - Beaulieu\nJeanne d'Arc - Longs Champs - Beaulieu\nSud gare\nSud gare\nBourg l'Evesque - La Touche - Moulin du Comte\nBourg l'Evesque - La Touche - Moulin du Comte\nMaurepas - Bellangerais\nMaurepas - Bellangerais\nThabor - Saint-H\u00e9lier - Alphonse Gu\u00e9rin\nThabor - Saint-H\u00e9lier - Alphonse Gu\u00e9rin\nFrancisco Ferrer - Landry - Poterie\nFrancisco Ferrer - Landry - Poterie\nCentre\nCentre\n", 
                    "output_type": "stream"
                }, 
                {
                    "output_type": "execute_result", 
                    "execution_count": 76, 
                    "data": {
                        "text/plain": "  Equipment        lat      long  nombre_support  \\\n0   Parking  48.112387 -1.661293             NaN   \n1   Parking  48.104794 -1.692262             NaN   \n2   Parking  48.109626 -1.672802             NaN   \n3   Parking  48.104185 -1.690956             NaN   \n4   Parking  48.106053 -1.690532             NaN   \n\n   Bourg l'Evesque - La Touche - Moulin du Comte  Br\u00e9quigny    Centre  \\\n0                                       3.896795   3.433599  1.418882   \n1                                       1.690138   2.146864  1.131022   \n2                                       3.033481   2.784813  0.580635   \n3                                       1.804669   2.059528  1.102737   \n4                                       1.771707   2.257959  0.943917   \n\n   Cleunay - Arsenal - Redon  Francisco Ferrer - Landry - Poterie  \\\n0                   4.872061                             2.216049   \n1                   2.425713                             3.758173   \n2                   3.965113                             2.636811   \n3                   2.488301                             3.647867   \n4                   2.601469                             3.671544   \n\n   Jeanne d'Arc - Longs Champs - Beaulieu  Le Blosne  Maurepas - Bellangerais  \\\n0                                1.572841   3.048843                 2.762201   \n1                                3.982923   3.310660                 4.603510   \n2                                2.455970   2.923974                 3.350906   \n3                                3.927924   3.193212                 4.594616   \n4                                3.805979   3.313120                 4.413680   \n\n   Saint Martin  Sud gare  Thabor - Saint-H\u00e9lier - Alphonse Gu\u00e9rin  \\\n0      2.291612  1.948695                                 0.043649   \n1      2.543529  1.622550                                 2.450537   \n2      2.068178  1.407921                                 0.909966   \n3      2.585828  1.504398                                 2.383094   \n4      2.376270  1.599981                                 2.285037   \n\n   Villejean - Beauregard  \n0                4.189906  \n1                3.063282  \n2                3.617837  \n3                3.169517  \n4                3.006851  ", 
                        "text/html": "<div>\n<style scoped>\n    .dataframe tbody tr th:only-of-type {\n        vertical-align: middle;\n    }\n\n    .dataframe tbody tr th {\n        vertical-align: top;\n    }\n\n    .dataframe thead th {\n        text-align: right;\n    }\n</style>\n<table border=\"1\" class=\"dataframe\">\n  <thead>\n    <tr style=\"text-align: right;\">\n      <th></th>\n      <th>Equipment</th>\n      <th>lat</th>\n      <th>long</th>\n      <th>nombre_support</th>\n      <th>Bourg l'Evesque - La Touche - Moulin du Comte</th>\n      <th>Br\u00e9quigny</th>\n      <th>Centre</th>\n      <th>Cleunay - Arsenal - Redon</th>\n      <th>Francisco Ferrer - Landry - Poterie</th>\n      <th>Jeanne d'Arc - Longs Champs - Beaulieu</th>\n      <th>Le Blosne</th>\n      <th>Maurepas - Bellangerais</th>\n      <th>Saint Martin</th>\n      <th>Sud gare</th>\n      <th>Thabor - Saint-H\u00e9lier - Alphonse Gu\u00e9rin</th>\n      <th>Villejean - Beauregard</th>\n    </tr>\n  </thead>\n  <tbody>\n    <tr>\n      <th>0</th>\n      <td>Parking</td>\n      <td>48.112387</td>\n      <td>-1.661293</td>\n      <td>NaN</td>\n      <td>3.896795</td>\n      <td>3.433599</td>\n      <td>1.418882</td>\n      <td>4.872061</td>\n      <td>2.216049</td>\n      <td>1.572841</td>\n      <td>3.048843</td>\n      <td>2.762201</td>\n      <td>2.291612</td>\n      <td>1.948695</td>\n      <td>0.043649</td>\n      <td>4.189906</td>\n    </tr>\n    <tr>\n      <th>1</th>\n      <td>Parking</td>\n      <td>48.104794</td>\n      <td>-1.692262</td>\n      <td>NaN</td>\n      <td>1.690138</td>\n      <td>2.146864</td>\n      <td>1.131022</td>\n      <td>2.425713</td>\n      <td>3.758173</td>\n      <td>3.982923</td>\n      <td>3.310660</td>\n      <td>4.603510</td>\n      <td>2.543529</td>\n      <td>1.622550</td>\n      <td>2.450537</td>\n      <td>3.063282</td>\n    </tr>\n    <tr>\n      <th>2</th>\n      <td>Parking</td>\n      <td>48.109626</td>\n      <td>-1.672802</td>\n      <td>NaN</td>\n      <td>3.033481</td>\n      <td>2.784813</td>\n      <td>0.580635</td>\n      <td>3.965113</td>\n      <td>2.636811</td>\n      <td>2.455970</td>\n      <td>2.923974</td>\n      <td>3.350906</td>\n      <td>2.068178</td>\n      <td>1.407921</td>\n      <td>0.909966</td>\n      <td>3.617837</td>\n    </tr>\n    <tr>\n      <th>3</th>\n      <td>Parking</td>\n      <td>48.104185</td>\n      <td>-1.690956</td>\n      <td>NaN</td>\n      <td>1.804669</td>\n      <td>2.059528</td>\n      <td>1.102737</td>\n      <td>2.488301</td>\n      <td>3.647867</td>\n      <td>3.927924</td>\n      <td>3.193212</td>\n      <td>4.594616</td>\n      <td>2.585828</td>\n      <td>1.504398</td>\n      <td>2.383094</td>\n      <td>3.169517</td>\n    </tr>\n    <tr>\n      <th>4</th>\n      <td>Parking</td>\n      <td>48.106053</td>\n      <td>-1.690532</td>\n      <td>NaN</td>\n      <td>1.771707</td>\n      <td>2.257959</td>\n      <td>0.943917</td>\n      <td>2.601469</td>\n      <td>3.671544</td>\n      <td>3.805979</td>\n      <td>3.313120</td>\n      <td>4.413680</td>\n      <td>2.376270</td>\n      <td>1.599981</td>\n      <td>2.285037</td>\n      <td>3.006851</td>\n    </tr>\n  </tbody>\n</table>\n</div>"
                    }, 
                    "metadata": {}
                }
            ], 
            "execution_count": 76, 
            "cell_type": "code", 
            "metadata": {}
        }, 
        {
            "source": "Now we find the minimum value and set it to one and set all the other values to 0", 
            "metadata": {}, 
            "cell_type": "markdown"
        }, 
        {
            "source": "def nan_all_but_min(df):\n    arr = df.values\n    idx = np.argmin(arr, axis=1)\n    newarr = np.full_like(arr, np.nan, dtype='float')\n    newarr[np.arange(arr.shape[0]), idx] = arr[np.arange(arr.shape[0]), idx]\n    df = pd.DataFrame(newarr, columns=df.columns, index=df.index)\n    return df", 
            "outputs": [], 
            "execution_count": 46, 
            "cell_type": "code", 
            "metadata": {}
        }, 
        {
            "source": "df = equipments[['Equipment','lat','long','nombre_support']]\nequipments = pd.concat([df,\n                        nan_all_but_min(equipments[['Bourg l\\'Evesque - La Touche - Moulin du Comte','Br\u00e9quigny','Centre','Cleunay - Arsenal - Redon',\n                                                    'Francisco Ferrer - Landry - Poterie','Jeanne d\\'Arc - Longs Champs - Beaulieu','Le Blosne',\n                                                    'Maurepas - Bellangerais','Saint Martin','Sud gare','Thabor - Saint-H\u00e9lier - Alphonse Gu\u00e9rin',\n                                                    'Villejean - Beauregard']]).notnull().astype('int')\n                       ],axis=1)\n", 
            "outputs": [], 
            "execution_count": 77, 
            "cell_type": "code", 
            "metadata": {}
        }, 
        {
            "source": "equipments.head()", 
            "outputs": [
                {
                    "output_type": "execute_result", 
                    "execution_count": 78, 
                    "data": {
                        "text/plain": "  Equipment        lat      long  nombre_support  \\\n0   Parking  48.112387 -1.661293             NaN   \n1   Parking  48.104794 -1.692262             NaN   \n2   Parking  48.109626 -1.672802             NaN   \n3   Parking  48.104185 -1.690956             NaN   \n4   Parking  48.106053 -1.690532             NaN   \n\n   Bourg l'Evesque - La Touche - Moulin du Comte  Br\u00e9quigny  Centre  \\\n0                                              0          0       0   \n1                                              0          0       1   \n2                                              0          0       1   \n3                                              0          0       1   \n4                                              0          0       1   \n\n   Cleunay - Arsenal - Redon  Francisco Ferrer - Landry - Poterie  \\\n0                          0                                    0   \n1                          0                                    0   \n2                          0                                    0   \n3                          0                                    0   \n4                          0                                    0   \n\n   Jeanne d'Arc - Longs Champs - Beaulieu  Le Blosne  Maurepas - Bellangerais  \\\n0                                       0          0                        0   \n1                                       0          0                        0   \n2                                       0          0                        0   \n3                                       0          0                        0   \n4                                       0          0                        0   \n\n   Saint Martin  Sud gare  Thabor - Saint-H\u00e9lier - Alphonse Gu\u00e9rin  \\\n0             0         0                                        1   \n1             0         0                                        0   \n2             0         0                                        0   \n3             0         0                                        0   \n4             0         0                                        0   \n\n   Villejean - Beauregard  \n0                       0  \n1                       0  \n2                       0  \n3                       0  \n4                       0  ", 
                        "text/html": "<div>\n<style scoped>\n    .dataframe tbody tr th:only-of-type {\n        vertical-align: middle;\n    }\n\n    .dataframe tbody tr th {\n        vertical-align: top;\n    }\n\n    .dataframe thead th {\n        text-align: right;\n    }\n</style>\n<table border=\"1\" class=\"dataframe\">\n  <thead>\n    <tr style=\"text-align: right;\">\n      <th></th>\n      <th>Equipment</th>\n      <th>lat</th>\n      <th>long</th>\n      <th>nombre_support</th>\n      <th>Bourg l'Evesque - La Touche - Moulin du Comte</th>\n      <th>Br\u00e9quigny</th>\n      <th>Centre</th>\n      <th>Cleunay - Arsenal - Redon</th>\n      <th>Francisco Ferrer - Landry - Poterie</th>\n      <th>Jeanne d'Arc - Longs Champs - Beaulieu</th>\n      <th>Le Blosne</th>\n      <th>Maurepas - Bellangerais</th>\n      <th>Saint Martin</th>\n      <th>Sud gare</th>\n      <th>Thabor - Saint-H\u00e9lier - Alphonse Gu\u00e9rin</th>\n      <th>Villejean - Beauregard</th>\n    </tr>\n  </thead>\n  <tbody>\n    <tr>\n      <th>0</th>\n      <td>Parking</td>\n      <td>48.112387</td>\n      <td>-1.661293</td>\n      <td>NaN</td>\n      <td>0</td>\n      <td>0</td>\n      <td>0</td>\n      <td>0</td>\n      <td>0</td>\n      <td>0</td>\n      <td>0</td>\n      <td>0</td>\n      <td>0</td>\n      <td>0</td>\n      <td>1</td>\n      <td>0</td>\n    </tr>\n    <tr>\n      <th>1</th>\n      <td>Parking</td>\n      <td>48.104794</td>\n      <td>-1.692262</td>\n      <td>NaN</td>\n      <td>0</td>\n      <td>0</td>\n      <td>1</td>\n      <td>0</td>\n      <td>0</td>\n      <td>0</td>\n      <td>0</td>\n      <td>0</td>\n      <td>0</td>\n      <td>0</td>\n      <td>0</td>\n      <td>0</td>\n    </tr>\n    <tr>\n      <th>2</th>\n      <td>Parking</td>\n      <td>48.109626</td>\n      <td>-1.672802</td>\n      <td>NaN</td>\n      <td>0</td>\n      <td>0</td>\n      <td>1</td>\n      <td>0</td>\n      <td>0</td>\n      <td>0</td>\n      <td>0</td>\n      <td>0</td>\n      <td>0</td>\n      <td>0</td>\n      <td>0</td>\n      <td>0</td>\n    </tr>\n    <tr>\n      <th>3</th>\n      <td>Parking</td>\n      <td>48.104185</td>\n      <td>-1.690956</td>\n      <td>NaN</td>\n      <td>0</td>\n      <td>0</td>\n      <td>1</td>\n      <td>0</td>\n      <td>0</td>\n      <td>0</td>\n      <td>0</td>\n      <td>0</td>\n      <td>0</td>\n      <td>0</td>\n      <td>0</td>\n      <td>0</td>\n    </tr>\n    <tr>\n      <th>4</th>\n      <td>Parking</td>\n      <td>48.106053</td>\n      <td>-1.690532</td>\n      <td>NaN</td>\n      <td>0</td>\n      <td>0</td>\n      <td>1</td>\n      <td>0</td>\n      <td>0</td>\n      <td>0</td>\n      <td>0</td>\n      <td>0</td>\n      <td>0</td>\n      <td>0</td>\n      <td>0</td>\n      <td>0</td>\n    </tr>\n  </tbody>\n</table>\n</div>"
                    }, 
                    "metadata": {}
                }
            ], 
            "execution_count": 78, 
            "cell_type": "code", 
            "metadata": {}
        }, 
        {
            "source": "Now we do a get_dummies reversed and delete all the useless values.", 
            "metadata": {}, 
            "cell_type": "markdown"
        }, 
        {
            "source": "def get_neighbourhood(row):\n    for c in equipments.columns:\n        if row[c]==1:\n            return c\n        \nequipments['Neighbourhood'] = equipments.apply(get_neighbourhood, axis=1)", 
            "outputs": [], 
            "execution_count": 79, 
            "cell_type": "code", 
            "metadata": {}
        }, 
        {
            "source": "equipments = equipments[['Equipment','nombre_support','Neighbourhood']]\nequipments.head()", 
            "outputs": [
                {
                    "output_type": "execute_result", 
                    "execution_count": 80, 
                    "data": {
                        "text/plain": "  Equipment  nombre_support                            Neighbourhood\n0   Parking             NaN  Thabor - Saint-H\u00e9lier - Alphonse Gu\u00e9rin\n1   Parking             NaN                                   Centre\n2   Parking             NaN                                   Centre\n3   Parking             NaN                                   Centre\n4   Parking             NaN                                   Centre", 
                        "text/html": "<div>\n<style scoped>\n    .dataframe tbody tr th:only-of-type {\n        vertical-align: middle;\n    }\n\n    .dataframe tbody tr th {\n        vertical-align: top;\n    }\n\n    .dataframe thead th {\n        text-align: right;\n    }\n</style>\n<table border=\"1\" class=\"dataframe\">\n  <thead>\n    <tr style=\"text-align: right;\">\n      <th></th>\n      <th>Equipment</th>\n      <th>nombre_support</th>\n      <th>Neighbourhood</th>\n    </tr>\n  </thead>\n  <tbody>\n    <tr>\n      <th>0</th>\n      <td>Parking</td>\n      <td>NaN</td>\n      <td>Thabor - Saint-H\u00e9lier - Alphonse Gu\u00e9rin</td>\n    </tr>\n    <tr>\n      <th>1</th>\n      <td>Parking</td>\n      <td>NaN</td>\n      <td>Centre</td>\n    </tr>\n    <tr>\n      <th>2</th>\n      <td>Parking</td>\n      <td>NaN</td>\n      <td>Centre</td>\n    </tr>\n    <tr>\n      <th>3</th>\n      <td>Parking</td>\n      <td>NaN</td>\n      <td>Centre</td>\n    </tr>\n    <tr>\n      <th>4</th>\n      <td>Parking</td>\n      <td>NaN</td>\n      <td>Centre</td>\n    </tr>\n  </tbody>\n</table>\n</div>"
                    }, 
                    "metadata": {}
                }
            ], 
            "execution_count": 80, 
            "cell_type": "code", 
            "metadata": {}
        }, 
        {
            "source": "Now we will count each type of equipment in each Neighbourhood", 
            "metadata": {}, 
            "cell_type": "markdown"
        }, 
        {
            "source": "frames = [equipments, cultural_equipment]\nequipments = pd.concat(frames)\nequipments['Nombre'] = 1", 
            "outputs": [], 
            "execution_count": 81, 
            "cell_type": "code", 
            "metadata": {}
        }, 
        {
            "source": "equipments = equipments.groupby(['Equipment', 'Neighbourhood'])['nombre_support','Nombre'].sum()\nequipments = equipments.fillna(0)\nequipments['Number'] = equipments['nombre_support'] + equipments['Nombre']\nequipments = equipments[['Number']]\nequipments", 
            "outputs": [
                {
                    "output_type": "execute_result", 
                    "execution_count": 82, 
                    "data": {
                        "text/plain": "                                                                    Number\nEquipment            Neighbourhood                                        \nCultural equipement  Bourg-L'Ev\u00eaque - La Touche - Moulin du Comte     25.0\n                     Br\u00e9quigny                                        16.0\n                     Centre                                           18.0\n                     Cleunay - Arsenal - Redon - La Courrouze         21.0\n                     Francisco-Ferrer - Landry - Poterie              11.0\n                     Jeanne d'Arc - Longs Champs - Beaulieu           10.0\n                     Le Blosne                                        25.0\n                     Maurepas - Bellangerais                          24.0\n                     Saint-Martin                                      7.0\n                     Sud-Gare                                         11.0\n                     Thabor - Saint-H\u00e9lier -  Alphonse Gu\u00e9rin         15.0\n                     Villejean - Beauregard                           21.0\nGreen Roads          Bourg l'Evesque - La Touche - Moulin du Comte   228.0\n                     Br\u00e9quigny                                        74.0\n                     Centre                                          451.0\n                     Cleunay - Arsenal - Redon                        44.0\n                     Francisco Ferrer - Landry - Poterie             242.0\n                     Jeanne d'Arc - Longs Champs - Beaulieu          180.0\n                     Le Blosne                                       229.0\n                     Maurepas - Bellangerais                         207.0\n                     Saint Martin                                    192.0\n                     Sud gare                                        271.0\n                     Thabor - Saint-H\u00e9lier - Alphonse Gu\u00e9rin         122.0\n                     Villejean - Beauregard                          116.0\nParking              Centre                                          488.0\n                     Saint Martin                                     33.0\n                     Sud gare                                         58.0\n                     Thabor - Saint-H\u00e9lier - Alphonse Gu\u00e9rin         167.0\nbike stops           Bourg l'Evesque - La Touche - Moulin du Comte   653.0\n                     Br\u00e9quigny                                       356.0\n                     Centre                                         1800.0\n                     Cleunay - Arsenal - Redon                        51.0\n                     Francisco Ferrer - Landry - Poterie             262.0\n                     Jeanne d'Arc - Longs Champs - Beaulieu          161.0\n                     Le Blosne                                       403.0\n                     Maurepas - Bellangerais                         214.0\n                     Saint Martin                                    190.0\n                     Sud gare                                        523.0\n                     Thabor - Saint-H\u00e9lier - Alphonse Gu\u00e9rin         361.0\n                     Villejean - Beauregard                          260.0\n                     nombre_support                                   20.0\nbus stop             Bourg l'Evesque - La Touche - Moulin du Comte    61.0\n                     Br\u00e9quigny                                        34.0\n                     Centre                                           87.0\n                     Cleunay - Arsenal - Redon                        18.0\n                     Francisco Ferrer - Landry - Poterie              65.0\n                     Jeanne d'Arc - Longs Champs - Beaulieu           71.0\n                     Le Blosne                                        25.0\n                     Maurepas - Bellangerais                          45.0\n                     Saint Martin                                     53.0\n                     Sud gare                                         47.0\n                     Thabor - Saint-H\u00e9lier - Alphonse Gu\u00e9rin          42.0\n                     Villejean - Beauregard                           35.0\nelectric car charger Bourg l'Evesque - La Touche - Moulin du Comte     1.0\n                     Br\u00e9quigny                                         1.0\n                     Centre                                            8.0\n                     Jeanne d'Arc - Longs Champs - Beaulieu            3.0\n                     Sud gare                                          4.0\n                     Thabor - Saint-H\u00e9lier - Alphonse Gu\u00e9rin           3.0", 
                        "text/html": "<div>\n<style scoped>\n    .dataframe tbody tr th:only-of-type {\n        vertical-align: middle;\n    }\n\n    .dataframe tbody tr th {\n        vertical-align: top;\n    }\n\n    .dataframe thead th {\n        text-align: right;\n    }\n</style>\n<table border=\"1\" class=\"dataframe\">\n  <thead>\n    <tr style=\"text-align: right;\">\n      <th></th>\n      <th></th>\n      <th>Number</th>\n    </tr>\n    <tr>\n      <th>Equipment</th>\n      <th>Neighbourhood</th>\n      <th></th>\n    </tr>\n  </thead>\n  <tbody>\n    <tr>\n      <th rowspan=\"12\" valign=\"top\">Cultural equipement</th>\n      <th>Bourg-L'Ev\u00eaque - La Touche - Moulin du Comte</th>\n      <td>25.0</td>\n    </tr>\n    <tr>\n      <th>Br\u00e9quigny</th>\n      <td>16.0</td>\n    </tr>\n    <tr>\n      <th>Centre</th>\n      <td>18.0</td>\n    </tr>\n    <tr>\n      <th>Cleunay - Arsenal - Redon - La Courrouze</th>\n      <td>21.0</td>\n    </tr>\n    <tr>\n      <th>Francisco-Ferrer - Landry - Poterie</th>\n      <td>11.0</td>\n    </tr>\n    <tr>\n      <th>Jeanne d'Arc - Longs Champs - Beaulieu</th>\n      <td>10.0</td>\n    </tr>\n    <tr>\n      <th>Le Blosne</th>\n      <td>25.0</td>\n    </tr>\n    <tr>\n      <th>Maurepas - Bellangerais</th>\n      <td>24.0</td>\n    </tr>\n    <tr>\n      <th>Saint-Martin</th>\n      <td>7.0</td>\n    </tr>\n    <tr>\n      <th>Sud-Gare</th>\n      <td>11.0</td>\n    </tr>\n    <tr>\n      <th>Thabor - Saint-H\u00e9lier -  Alphonse Gu\u00e9rin</th>\n      <td>15.0</td>\n    </tr>\n    <tr>\n      <th>Villejean - Beauregard</th>\n      <td>21.0</td>\n    </tr>\n    <tr>\n      <th rowspan=\"12\" valign=\"top\">Green Roads</th>\n      <th>Bourg l'Evesque - La Touche - Moulin du Comte</th>\n      <td>228.0</td>\n    </tr>\n    <tr>\n      <th>Br\u00e9quigny</th>\n      <td>74.0</td>\n    </tr>\n    <tr>\n      <th>Centre</th>\n      <td>451.0</td>\n    </tr>\n    <tr>\n      <th>Cleunay - Arsenal - Redon</th>\n      <td>44.0</td>\n    </tr>\n    <tr>\n      <th>Francisco Ferrer - Landry - Poterie</th>\n      <td>242.0</td>\n    </tr>\n    <tr>\n      <th>Jeanne d'Arc - Longs Champs - Beaulieu</th>\n      <td>180.0</td>\n    </tr>\n    <tr>\n      <th>Le Blosne</th>\n      <td>229.0</td>\n    </tr>\n    <tr>\n      <th>Maurepas - Bellangerais</th>\n      <td>207.0</td>\n    </tr>\n    <tr>\n      <th>Saint Martin</th>\n      <td>192.0</td>\n    </tr>\n    <tr>\n      <th>Sud gare</th>\n      <td>271.0</td>\n    </tr>\n    <tr>\n      <th>Thabor - Saint-H\u00e9lier - Alphonse Gu\u00e9rin</th>\n      <td>122.0</td>\n    </tr>\n    <tr>\n      <th>Villejean - Beauregard</th>\n      <td>116.0</td>\n    </tr>\n    <tr>\n      <th rowspan=\"4\" valign=\"top\">Parking</th>\n      <th>Centre</th>\n      <td>488.0</td>\n    </tr>\n    <tr>\n      <th>Saint Martin</th>\n      <td>33.0</td>\n    </tr>\n    <tr>\n      <th>Sud gare</th>\n      <td>58.0</td>\n    </tr>\n    <tr>\n      <th>Thabor - Saint-H\u00e9lier - Alphonse Gu\u00e9rin</th>\n      <td>167.0</td>\n    </tr>\n    <tr>\n      <th rowspan=\"13\" valign=\"top\">bike stops</th>\n      <th>Bourg l'Evesque - La Touche - Moulin du Comte</th>\n      <td>653.0</td>\n    </tr>\n    <tr>\n      <th>Br\u00e9quigny</th>\n      <td>356.0</td>\n    </tr>\n    <tr>\n      <th>Centre</th>\n      <td>1800.0</td>\n    </tr>\n    <tr>\n      <th>Cleunay - Arsenal - Redon</th>\n      <td>51.0</td>\n    </tr>\n    <tr>\n      <th>Francisco Ferrer - Landry - Poterie</th>\n      <td>262.0</td>\n    </tr>\n    <tr>\n      <th>Jeanne d'Arc - Longs Champs - Beaulieu</th>\n      <td>161.0</td>\n    </tr>\n    <tr>\n      <th>Le Blosne</th>\n      <td>403.0</td>\n    </tr>\n    <tr>\n      <th>Maurepas - Bellangerais</th>\n      <td>214.0</td>\n    </tr>\n    <tr>\n      <th>Saint Martin</th>\n      <td>190.0</td>\n    </tr>\n    <tr>\n      <th>Sud gare</th>\n      <td>523.0</td>\n    </tr>\n    <tr>\n      <th>Thabor - Saint-H\u00e9lier - Alphonse Gu\u00e9rin</th>\n      <td>361.0</td>\n    </tr>\n    <tr>\n      <th>Villejean - Beauregard</th>\n      <td>260.0</td>\n    </tr>\n    <tr>\n      <th>nombre_support</th>\n      <td>20.0</td>\n    </tr>\n    <tr>\n      <th rowspan=\"12\" valign=\"top\">bus stop</th>\n      <th>Bourg l'Evesque - La Touche - Moulin du Comte</th>\n      <td>61.0</td>\n    </tr>\n    <tr>\n      <th>Br\u00e9quigny</th>\n      <td>34.0</td>\n    </tr>\n    <tr>\n      <th>Centre</th>\n      <td>87.0</td>\n    </tr>\n    <tr>\n      <th>Cleunay - Arsenal - Redon</th>\n      <td>18.0</td>\n    </tr>\n    <tr>\n      <th>Francisco Ferrer - Landry - Poterie</th>\n      <td>65.0</td>\n    </tr>\n    <tr>\n      <th>Jeanne d'Arc - Longs Champs - Beaulieu</th>\n      <td>71.0</td>\n    </tr>\n    <tr>\n      <th>Le Blosne</th>\n      <td>25.0</td>\n    </tr>\n    <tr>\n      <th>Maurepas - Bellangerais</th>\n      <td>45.0</td>\n    </tr>\n    <tr>\n      <th>Saint Martin</th>\n      <td>53.0</td>\n    </tr>\n    <tr>\n      <th>Sud gare</th>\n      <td>47.0</td>\n    </tr>\n    <tr>\n      <th>Thabor - Saint-H\u00e9lier - Alphonse Gu\u00e9rin</th>\n      <td>42.0</td>\n    </tr>\n    <tr>\n      <th>Villejean - Beauregard</th>\n      <td>35.0</td>\n    </tr>\n    <tr>\n      <th rowspan=\"6\" valign=\"top\">electric car charger</th>\n      <th>Bourg l'Evesque - La Touche - Moulin du Comte</th>\n      <td>1.0</td>\n    </tr>\n    <tr>\n      <th>Br\u00e9quigny</th>\n      <td>1.0</td>\n    </tr>\n    <tr>\n      <th>Centre</th>\n      <td>8.0</td>\n    </tr>\n    <tr>\n      <th>Jeanne d'Arc - Longs Champs - Beaulieu</th>\n      <td>3.0</td>\n    </tr>\n    <tr>\n      <th>Sud gare</th>\n      <td>4.0</td>\n    </tr>\n    <tr>\n      <th>Thabor - Saint-H\u00e9lier - Alphonse Gu\u00e9rin</th>\n      <td>3.0</td>\n    </tr>\n  </tbody>\n</table>\n</div>"
                    }, 
                    "metadata": {}
                }
            ], 
            "execution_count": 82, 
            "cell_type": "code", 
            "metadata": {}
        }, 
        {
            "source": "# C'est pas tout a fait le format qui me convient. V\u00e9rifier avec Toronto !\n# Apr\u00e8s il faut s'occuper des donn\u00e9es Foursquare.", 
            "metadata": {}, 
            "cell_type": "markdown"
        }, 
        {
            "source": "# Code pour l'anciennet\u00e9 des habitant et les stats de pop", 
            "metadata": {}, 
            "cell_type": "markdown"
        }, 
        {
            "source": "body = client_2551b64066e74033992250268342bdad.get_object(Bucket='courseraproject-donotdelete-pr-pstz2scfjmnlsh',Key='logement-anciennete.csv')['Body']\n# add missing __iter__ method, so pandas accepts body as file-like object\nif not hasattr(body, \"__iter__\"): body.__iter__ = types.MethodType( __iter__, body )\n\nhousing_seniority = pd.read_csv(body,delimiter=';')\nhousing_seniority = housing_seniority.loc[housing_seniority['Commune'] == 'Rennes']\nhousing_seniority = housing_seniority.drop(['Code INSEE', 'geolocalisation', 'Commune'], axis = 1)\nhousing_seniority.head()\n\nbody = client_2551b64066e74033992250268342bdad.get_object(Bucket='courseraproject-donotdelete-pr-pstz2scfjmnlsh',Key='population-par-sexe-age-et-nationalite-par-commune-2014.csv')['Body']\n# add missing __iter__ method, so pandas accepts body as file-like object\nif not hasattr(body, \"__iter__\"): body.__iter__ = types.MethodType( __iter__, body )\n\npop_stats = pd.read_csv(body,delimiter=';')\npop_stats = pop_stats.loc[pop_stats['libell\u00e9 g\u00e9ographique'] == 'Rennes']\npop_stats = pop_stats.drop(['niveau g\u00e9ographique', 'code g\u00e9ographique', 'libell\u00e9 g\u00e9ographique', 'CODE_DEPT', 'CODE_DEPT'], axis = 1)\npop_stats = pop_stats.drop(['NB', 'inter_codegeo1', 'EPCI', 'LIBEPCI', 'NATURE_EPCI', 'NOM_DEPT', 'CODE_REG', 'NOM_REG'], axis = 1)\npop_stats.head()", 
            "outputs": [], 
            "execution_count": null, 
            "cell_type": "code", 
            "metadata": {}
        }
    ], 
    "nbformat_minor": 2
}