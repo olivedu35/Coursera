{
    "metadata": {
        "kernelspec": {
            "language": "python", 
            "display_name": "Python 3.5", 
            "name": "python3"
        }, 
        "language_info": {
            "name": "python", 
            "codemirror_mode": {
                "version": 3, 
                "name": "ipython"
            }, 
            "version": "3.5.5", 
            "mimetype": "text/x-python", 
            "pygments_lexer": "ipython3", 
            "nbconvert_exporter": "python", 
            "file_extension": ".py"
        }
    }, 
    "nbformat": 4, 
    "cells": [
        {
            "metadata": {}, 
            "cell_type": "markdown", 
            "source": "# Clustering and segmenting Neighborhood in Rennes, France"
        }, 
        {
            "metadata": {}, 
            "cell_type": "markdown", 
            "source": "## Introduction / Business Problem"
        }, 
        {
            "metadata": {}, 
            "cell_type": "markdown", 
            "source": "Rennes is my birth city and was quite in advance on its time by giving open datas to the people since at least ten years. Now, there is lots of data from the city of Rennes and other contractors that have business in Rennes. Like for example the company that run the bus in Rennes has some API to get datas about them. Bus stop location, real time traffic, etc..\n\nOur objectif in this project is to cluster Rennes Neighborhood using foursquare and using datas from the city of Rennes.\n\nWe use foursquare API but we also add data about transportation of Rennes city.\n\nThen we try to analyse cluster predicted and assigned them to groups of people. \n\nOverall business objectif  is to direct people/businesses, that are looking to settle in Rennes, into the good neighborhood."
        }, 
        {
            "metadata": {}, 
            "cell_type": "markdown", 
            "source": "## Data"
        }, 
        {
            "metadata": {}, 
            "cell_type": "markdown", 
            "source": "In order to complete out goals, two source of datas are going to be used : \n- Foursquare API\n- Rennes' datasets\n\nAll datas are quite easily available. Biggest challenge is to find out the neighborhood and assign each venue, structure, etc.. to the correct neighborhood.\n"
        }, 
        {
            "metadata": {}, 
            "cell_type": "markdown", 
            "source": "### Foursquare API"
        }, 
        {
            "metadata": {}, 
            "cell_type": "markdown", 
            "source": "Foursquare is a social location service that allows users to explore the world around them. They are at this time able to review locations in which they come and go and give a notation and a comment about this place. \n\nThe Foursquare API allows application developers to interact with the Foursquare platform. We can retrieve venues and all the details about it (notations, comments, users, etc..), but also details about users.\n\nIn order to cluster our neighborhood, we will use Foursquare API to have data about Rennes locations and venues.\nWe will then be able to link top 10 venues to each neighborhood."
        }, 
        {
            "metadata": {}, 
            "cell_type": "markdown", 
            "source": "### Rennes' datasets"
        }, 
        {
            "metadata": {}, 
            "cell_type": "markdown", 
            "source": "In addition to the Foursquare venues, we will add transport informations to our neighborhood : \n- Number of Bus stops\n- Number of charger for electric vehicles\n- Number of kilometers of paid parking\n- Number of bike supports\n- Number of kilometers of bike ways\n- Number of culture equipment\n\nEach of these datasets are coming from Rennes Open Data Services. We downloaded some csv files containing informations about Rennes and others cities surrounding Rennes. Each equipment, location, etc. is coming with a Latitude and a Longitude. for simplicity purpose, we will use in this study only the informations concerning Rennes. \n\nIn Rennes Open Datas Services we were also able to find on very important dataset, which is the one that cut Rennes into neighborhood.\n\nThanksfully Rennes is a quite small city compared to New York and Toronto, so we do not need to cut down the numbers of neighborhood.\n\nIn order to analyse our clusters, we also have datas about : \n- Sexe, age and nationality of population in Rennes\n- Seniority of habitants of Rennes\n\nWe will use these datas to see if our analysis is correct at the end of the project. \nWe will indeed be able to see if habitants of a neighbourhood are concording with the analysis we made about each clusters we created."
        }, 
        {
            "metadata": {}, 
            "cell_type": "markdown", 
            "source": "# Notebook"
        }, 
        {
            "metadata": {}, 
            "cell_type": "markdown", 
            "source": "## Data import"
        }, 
        {
            "metadata": {}, 
            "cell_type": "markdown", 
            "source": "First we import all the libraries needed"
        }, 
        {
            "execution_count": 1, 
            "metadata": {}, 
            "cell_type": "code", 
            "outputs": [
                {
                    "output_type": "stream", 
                    "name": "stdout", 
                    "text": "Fetching package metadata .............\nSolving package specifications: .\n\n# All requested packages already installed.\n# packages in environment at /opt/conda/envs/DSX-Python35:\n#\ngeopy                     1.17.0                     py_0    conda-forge\nFetching package metadata .............\nSolving package specifications: .\n\n# All requested packages already installed.\n# packages in environment at /opt/conda/envs/DSX-Python35:\n#\nfolium                    0.5.0                      py_0    conda-forge\nLibraries imported.\n"
                }
            ], 
            "source": "import pandas as pd\nimport numpy as np\nimport json # library to handle JSON files\nfrom math import *\n\n!conda install -c conda-forge geopy --yes # uncomment this line if you haven't completed the Foursquare API lab\nfrom geopy.geocoders import Nominatim # convert an address into latitude and longitude values\n\n\nfrom pandas.io.json import json_normalize # tranform JSON file into a pandas dataframe\n\n# Matplotlib and associated plotting modules\nimport matplotlib.cm as cm\nimport matplotlib.colors as colors\n\n# import k-means from clustering stage\nfrom sklearn.cluster import KMeans\n\n!conda install -c conda-forge folium=0.5.0 --yes # uncomment this line if you haven't completed the Foursquare API lab\nimport folium # map rendering library\n\nprint('Libraries imported.')"
        }, 
        {
            "metadata": {}, 
            "cell_type": "markdown", 
            "source": "After this we define this little function that will help us compute distance between two points defined with Longitude and Latitude. This will be very helpfull for us in order to define the appartenance of an object (bus stop, electric car charger, etc.) to a neighbourhood."
        }, 
        {
            "execution_count": 3, 
            "metadata": {}, 
            "cell_type": "code", 
            "outputs": [], 
            "source": "def haversine(lon1, lat1, lon2, lat2):\n\n    lon1, lat1, lon2, lat2 = map(radians, [lon1, lat1, lon2, lat2])\n\n    # haversine formula \n    dlon = lon2 - lon1 \n    dlat = lat2 - lat1 \n    a = sin(dlat/2)**2 + cos(lat1) * cos(lat2) * sin(dlon/2)**2\n    c = 2 * asin(sqrt(a)) \n    r = 6371 # Radius of earth in kilometers. Use 3956 for miles\n    return c * r"
        }, 
        {
            "metadata": {}, 
            "cell_type": "markdown", 
            "source": "## Neighbourhood\n\nFirst we import the Neighbourhood of Rennes. We downloaded csv files from Rennes Open Data website into the Watson Studio. We use the code provided by IBM to import the data into the notebook. After This we only remove the unused column and we keep only the Latitude and Longitude (as floats), and of course the name of the neighbourhood."
        }, 
        {
            "execution_count": 4, 
            "metadata": {}, 
            "cell_type": "code", 
            "outputs": [
                {
                    "execution_count": 4, 
                    "metadata": {}, 
                    "data": {
                        "text/html": "<div>\n<style scoped>\n    .dataframe tbody tr th:only-of-type {\n        vertical-align: middle;\n    }\n\n    .dataframe tbody tr th {\n        vertical-align: top;\n    }\n\n    .dataframe thead th {\n        text-align: right;\n    }\n</style>\n<table border=\"1\" class=\"dataframe\">\n  <thead>\n    <tr style=\"text-align: right;\">\n      <th></th>\n      <th>nom</th>\n      <th>lat</th>\n      <th>long</th>\n    </tr>\n  </thead>\n  <tbody>\n    <tr>\n      <th>0</th>\n      <td>Le Blosne</td>\n      <td>48.085013</td>\n      <td>-1.658945</td>\n    </tr>\n    <tr>\n      <th>1</th>\n      <td>Cleunay - Arsenal - Redon</td>\n      <td>48.095816</td>\n      <td>-1.722033</td>\n    </tr>\n    <tr>\n      <th>2</th>\n      <td>Saint Martin</td>\n      <td>48.126865</td>\n      <td>-1.683262</td>\n    </tr>\n    <tr>\n      <th>3</th>\n      <td>Villejean - Beauregard</td>\n      <td>48.129004</td>\n      <td>-1.711953</td>\n    </tr>\n    <tr>\n      <th>4</th>\n      <td>Br\u00e9quigny</td>\n      <td>48.086038</td>\n      <td>-1.685403</td>\n    </tr>\n  </tbody>\n</table>\n</div>", 
                        "text/plain": "                         nom        lat      long\n0                  Le Blosne  48.085013 -1.658945\n1  Cleunay - Arsenal - Redon  48.095816 -1.722033\n2               Saint Martin  48.126865 -1.683262\n3     Villejean - Beauregard  48.129004 -1.711953\n4                  Br\u00e9quigny  48.086038 -1.685403"
                    }, 
                    "output_type": "execute_result"
                }
            ], 
            "source": "# The code was removed by Watson Studio for sharing."
        }, 
        {
            "metadata": {}, 
            "cell_type": "markdown", 
            "source": "Let's see this on the map : "
        }, 
        {
            "execution_count": 5, 
            "metadata": {}, 
            "cell_type": "code", 
            "outputs": [
                {
                    "execution_count": 5, 
                    "metadata": {}, 
                    "data": {
                        "text/html": "<div style=\"width:100%;\"><div style=\"position:relative;width:100%;height:0;padding-bottom:60%;\"><iframe src=\"data:text/html;charset=utf-8;base64,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\" style=\"position:absolute;width:100%;height:100%;left:0;top:0;border:none !important;\" allowfullscreen webkitallowfullscreen mozallowfullscreen></iframe></div></div>", 
                        "text/plain": "<folium.folium.Map at 0x7fa55c532630>"
                    }, 
                    "output_type": "execute_result"
                }
            ], 
            "source": "latitude = 48.117266\nlongitude = -1.6777926\n\n# create map of NToronto using latitude and longitude values\nmap_rennes = folium.Map(location=[latitude, longitude], zoom_start=12)\n\n# add markers to map\nfor lat, lng, neighborhood in zip(rennes_neighbourhood['lat'], rennes_neighbourhood['long'], rennes_neighbourhood['nom']):\n    label = '{}'.format(neighborhood)\n    label = folium.Popup(label, parse_html=True)\n    folium.CircleMarker(\n        [lat, lng],\n        radius=5,\n        popup=label,\n        color='blue',\n        fill=True,\n        fill_color='#3186cc',\n        fill_opacity=0.7,\n        parse_html=False).add_to(map_rennes)  \n    \nmap_rennes"
        }, 
        {
            "metadata": {}, 
            "cell_type": "markdown", 
            "source": "## Other Datas from Rennes Open Data Website :\n\nIn all the datas that we will get in this section, we will remove unused columns and keep a column with the equipment name, the longitude and the latitude as float and we will add a column full of Nan named Neighbourhood in order to class each object into a neighbourhood later. And then we will show the head.\n\nAlso for simplicity we only keep datas from the city of Rennes only, as in some data frames, their is data of suburb of Rennes that we remove."
        }, 
        {
            "metadata": {}, 
            "cell_type": "markdown", 
            "source": "### Electric Car Charger"
        }, 
        {
            "execution_count": 188, 
            "metadata": {}, 
            "cell_type": "code", 
            "outputs": [
                {
                    "execution_count": 188, 
                    "metadata": {}, 
                    "data": {
                        "text/html": "<div>\n<style scoped>\n    .dataframe tbody tr th:only-of-type {\n        vertical-align: middle;\n    }\n\n    .dataframe tbody tr th {\n        vertical-align: top;\n    }\n\n    .dataframe thead th {\n        text-align: right;\n    }\n</style>\n<table border=\"1\" class=\"dataframe\">\n  <thead>\n    <tr style=\"text-align: right;\">\n      <th></th>\n      <th>lat</th>\n      <th>long</th>\n      <th>Equipment</th>\n      <th>Neighbourhood</th>\n    </tr>\n  </thead>\n  <tbody>\n    <tr>\n      <th>2</th>\n      <td>48.106149</td>\n      <td>-1.677162</td>\n      <td>electric car charger</td>\n      <td>NaN</td>\n    </tr>\n    <tr>\n      <th>3</th>\n      <td>48.111000</td>\n      <td>-1.683630</td>\n      <td>electric car charger</td>\n      <td>NaN</td>\n    </tr>\n    <tr>\n      <th>4</th>\n      <td>48.130528</td>\n      <td>-1.638323</td>\n      <td>electric car charger</td>\n      <td>NaN</td>\n    </tr>\n    <tr>\n      <th>6</th>\n      <td>48.092414</td>\n      <td>-1.674211</td>\n      <td>electric car charger</td>\n      <td>NaN</td>\n    </tr>\n    <tr>\n      <th>7</th>\n      <td>48.113523</td>\n      <td>-1.686233</td>\n      <td>electric car charger</td>\n      <td>NaN</td>\n    </tr>\n  </tbody>\n</table>\n</div>", 
                        "text/plain": "         lat      long             Equipment  Neighbourhood\n2  48.106149 -1.677162  electric car charger            NaN\n3  48.111000 -1.683630  electric car charger            NaN\n4  48.130528 -1.638323  electric car charger            NaN\n6  48.092414 -1.674211  electric car charger            NaN\n7  48.113523 -1.686233  electric car charger            NaN"
                    }, 
                    "output_type": "execute_result"
                }
            ], 
            "source": "body = client_2551b64066e74033992250268342bdad.get_object(Bucket='courseraproject-donotdelete-pr-pstz2scfjmnlsh',Key='bornes-de-recharge-dediees-aux-vehicules-electriques-sur-le-territoire-de-rennes.csv')['Body']\n# add missing __iter__ method, so pandas accepts body as file-like object\nif not hasattr(body, \"__iter__\"): body.__iter__ = types.MethodType( __iter__, body )\n\nelectric_car_charger = pd.read_csv(body,delimiter=';')\nelectric_car_charger['addr'], electric_car_charger['town'] = electric_car_charger['site_adr'].str.split(',').str\nelectric_car_charger = electric_car_charger.loc[electric_car_charger['town'] == ' Rennes']\nelectric_car_charger['lat'], electric_car_charger['long'] = electric_car_charger['Geo Point'].str.split(',').str\nelectric_car_charger = electric_car_charger[['lat','long']]\nelectric_car_charger['Equipment'] = 'electric car charger'\nelectric_car_charger['Neighbourhood'] = np.nan\nelectric_car_charger.head()"
        }, 
        {
            "metadata": {}, 
            "cell_type": "markdown", 
            "source": "### Bus stops"
        }, 
        {
            "execution_count": 187, 
            "metadata": {}, 
            "cell_type": "code", 
            "outputs": [
                {
                    "execution_count": 187, 
                    "metadata": {}, 
                    "data": {
                        "text/html": "<div>\n<style scoped>\n    .dataframe tbody tr th:only-of-type {\n        vertical-align: middle;\n    }\n\n    .dataframe tbody tr th {\n        vertical-align: top;\n    }\n\n    .dataframe thead th {\n        text-align: right;\n    }\n</style>\n<table border=\"1\" class=\"dataframe\">\n  <thead>\n    <tr style=\"text-align: right;\">\n      <th></th>\n      <th>lat</th>\n      <th>long</th>\n      <th>Equipment</th>\n      <th>Neighbourhood</th>\n    </tr>\n  </thead>\n  <tbody>\n    <tr>\n      <th>0</th>\n      <td>48.127369</td>\n      <td>-1.640433</td>\n      <td>bus stop</td>\n      <td>NaN</td>\n    </tr>\n    <tr>\n      <th>1</th>\n      <td>48.121446</td>\n      <td>-1.655036</td>\n      <td>bus stop</td>\n      <td>NaN</td>\n    </tr>\n    <tr>\n      <th>2</th>\n      <td>48.119241</td>\n      <td>-1.667693</td>\n      <td>bus stop</td>\n      <td>NaN</td>\n    </tr>\n    <tr>\n      <th>3</th>\n      <td>48.116050</td>\n      <td>-1.674245</td>\n      <td>bus stop</td>\n      <td>NaN</td>\n    </tr>\n    <tr>\n      <th>4</th>\n      <td>48.112520</td>\n      <td>-1.680352</td>\n      <td>bus stop</td>\n      <td>NaN</td>\n    </tr>\n  </tbody>\n</table>\n</div>", 
                        "text/plain": "         lat      long Equipment  Neighbourhood\n0  48.127369 -1.640433  bus stop            NaN\n1  48.121446 -1.655036  bus stop            NaN\n2  48.119241 -1.667693  bus stop            NaN\n3  48.116050 -1.674245  bus stop            NaN\n4  48.112520 -1.680352  bus stop            NaN"
                    }, 
                    "output_type": "execute_result"
                }
            ], 
            "source": "body = client_2551b64066e74033992250268342bdad.get_object(Bucket='courseraproject-donotdelete-pr-pstz2scfjmnlsh',Key='equipement-accessibilite-arrets-bus.csv')['Body']\n# add missing __iter__ method, so pandas accepts body as file-like object\nif not hasattr(body, \"__iter__\"): body.__iter__ = types.MethodType( __iter__, body )\n\nbus_stop = pd.read_csv(body,delimiter=';')\nbus_stop = bus_stop.loc[bus_stop['Commune (nom)'] == 'Rennes']\nbus_stop['lat'], bus_stop['long'] = bus_stop['Coordonn\u00e9es'].str.split(',').str\nbus_stop = bus_stop[['lat','long']]\nbus_stop['Equipment'] = 'bus stop'\nbus_stop['Neighbourhood'] = np.nan\nbus_stop.head()"
        }, 
        {
            "metadata": {}, 
            "cell_type": "markdown", 
            "source": "### Bike Stops\n\nFor this one we keep the number of support at each point in order to sum them up later."
        }, 
        {
            "execution_count": 189, 
            "metadata": {}, 
            "cell_type": "code", 
            "outputs": [
                {
                    "execution_count": 189, 
                    "metadata": {}, 
                    "data": {
                        "text/html": "<div>\n<style scoped>\n    .dataframe tbody tr th:only-of-type {\n        vertical-align: middle;\n    }\n\n    .dataframe tbody tr th {\n        vertical-align: top;\n    }\n\n    .dataframe thead th {\n        text-align: right;\n    }\n</style>\n<table border=\"1\" class=\"dataframe\">\n  <thead>\n    <tr style=\"text-align: right;\">\n      <th></th>\n      <th>nombre_support</th>\n      <th>lat</th>\n      <th>long</th>\n      <th>Equipment</th>\n      <th>Neighbourhood</th>\n    </tr>\n  </thead>\n  <tbody>\n    <tr>\n      <th>0</th>\n      <td>4</td>\n      <td>48.1174872812</td>\n      <td>-1.6777579592</td>\n      <td>bike stops</td>\n      <td>NaN</td>\n    </tr>\n    <tr>\n      <th>1</th>\n      <td>5</td>\n      <td>48.1098139465</td>\n      <td>-1.67522515707</td>\n      <td>bike stops</td>\n      <td>NaN</td>\n    </tr>\n    <tr>\n      <th>2</th>\n      <td>8</td>\n      <td>48.1096012826</td>\n      <td>-1.67985481523</td>\n      <td>bike stops</td>\n      <td>NaN</td>\n    </tr>\n    <tr>\n      <th>3</th>\n      <td>5</td>\n      <td>48.113188555</td>\n      <td>-1.67762495861</td>\n      <td>bike stops</td>\n      <td>NaN</td>\n    </tr>\n    <tr>\n      <th>4</th>\n      <td>4</td>\n      <td>48.0859188837</td>\n      <td>-1.64220623748</td>\n      <td>bike stops</td>\n      <td>NaN</td>\n    </tr>\n  </tbody>\n</table>\n</div>", 
                        "text/plain": "   nombre_support            lat             long   Equipment  Neighbourhood\n0               4  48.1174872812    -1.6777579592  bike stops            NaN\n1               5  48.1098139465   -1.67522515707  bike stops            NaN\n2               8  48.1096012826   -1.67985481523  bike stops            NaN\n3               5   48.113188555   -1.67762495861  bike stops            NaN\n4               4  48.0859188837   -1.64220623748  bike stops            NaN"
                    }, 
                    "output_type": "execute_result"
                }
            ], 
            "source": "body = client_2551b64066e74033992250268342bdad.get_object(Bucket='courseraproject-donotdelete-pr-pstz2scfjmnlsh',Key='supports-velos.csv')['Body']\n# add missing __iter__ method, so pandas accepts body as file-like object\nif not hasattr(body, \"__iter__\"): body.__iter__ = types.MethodType( __iter__, body )\n\nbike_stops = pd.read_csv(body,delimiter=';')\nbike_stops = bike_stops.loc[bike_stops['nom_commune'] == 'Rennes']\nbike_stops['lat'], bike_stops['long'] = bike_stops['Geo Point'].str.split(',').str\nbike_stops = bike_stops[['nombre_support', 'lat', 'long']]\nbike_stops['Equipment'] = 'bike stops'\nbike_stops['Neighbourhood'] = np.nan\nbike_stops.head()"
        }, 
        {
            "metadata": {}, 
            "cell_type": "markdown", 
            "source": "### Cultural equipment\n\nFor this one, name of the neighbourhood is already included. We do not even need to keep Latitude and Longitude."
        }, 
        {
            "execution_count": 192, 
            "metadata": {}, 
            "cell_type": "code", 
            "outputs": [
                {
                    "execution_count": 192, 
                    "metadata": {}, 
                    "data": {
                        "text/html": "<div>\n<style scoped>\n    .dataframe tbody tr th:only-of-type {\n        vertical-align: middle;\n    }\n\n    .dataframe tbody tr th {\n        vertical-align: top;\n    }\n\n    .dataframe thead th {\n        text-align: right;\n    }\n</style>\n<table border=\"1\" class=\"dataframe\">\n  <thead>\n    <tr style=\"text-align: right;\">\n      <th></th>\n      <th>Equipment</th>\n      <th>Neighbourhood</th>\n    </tr>\n  </thead>\n  <tbody>\n    <tr>\n      <th>0</th>\n      <td>Cultural equipement</td>\n      <td>Centre</td>\n    </tr>\n    <tr>\n      <th>1</th>\n      <td>Cultural equipement</td>\n      <td>Thabor - Saint-H\u00e9lier -  Alphonse Gu\u00e9rin</td>\n    </tr>\n    <tr>\n      <th>2</th>\n      <td>Cultural equipement</td>\n      <td>Maurepas - Bellangerais</td>\n    </tr>\n    <tr>\n      <th>3</th>\n      <td>Cultural equipement</td>\n      <td>Maurepas - Bellangerais</td>\n    </tr>\n    <tr>\n      <th>4</th>\n      <td>Cultural equipement</td>\n      <td>Jeanne d'Arc - Longs Champs - Beaulieu</td>\n    </tr>\n  </tbody>\n</table>\n</div>", 
                        "text/plain": "             Equipment                             Neighbourhood\n0  Cultural equipement                                    Centre\n1  Cultural equipement  Thabor - Saint-H\u00e9lier -  Alphonse Gu\u00e9rin\n2  Cultural equipement                   Maurepas - Bellangerais\n3  Cultural equipement                   Maurepas - Bellangerais\n4  Cultural equipement    Jeanne d'Arc - Longs Champs - Beaulieu"
                    }, 
                    "output_type": "execute_result"
                }
            ], 
            "source": "body = client_2551b64066e74033992250268342bdad.get_object(Bucket='courseraproject-donotdelete-pr-pstz2scfjmnlsh',Key='liste-des-equipements-et-organismes-culturels-de-rennes-metropole.csv')['Body']\n# add missing __iter__ method, so pandas accepts body as file-like object\nif not hasattr(body, \"__iter__\"): body.__iter__ = types.MethodType( __iter__, body )\n\ncultural_equipment = pd.read_csv(body,delimiter=';')\ncultural_equipment = cultural_equipment.loc[cultural_equipment['CommuneNom'] == 'Rennes']\ncultural_equipment['Equipment'] = 'Cultural equipement'\ncultural_equipment['Neighbourhood'] = cultural_equipment['QuarNom']\ncultural_equipment = cultural_equipment[['Equipment','Neighbourhood']]\n\ncultural_equipment.head()"
        }, 
        {
            "metadata": {}, 
            "cell_type": "markdown", 
            "source": "### Green Roads"
        }, 
        {
            "execution_count": 193, 
            "metadata": {}, 
            "cell_type": "code", 
            "outputs": [
                {
                    "execution_count": 193, 
                    "metadata": {}, 
                    "data": {
                        "text/html": "<div>\n<style scoped>\n    .dataframe tbody tr th:only-of-type {\n        vertical-align: middle;\n    }\n\n    .dataframe tbody tr th {\n        vertical-align: top;\n    }\n\n    .dataframe thead th {\n        text-align: right;\n    }\n</style>\n<table border=\"1\" class=\"dataframe\">\n  <thead>\n    <tr style=\"text-align: right;\">\n      <th></th>\n      <th>lat</th>\n      <th>long</th>\n      <th>Equipment</th>\n      <th>Neighbourhood</th>\n    </tr>\n  </thead>\n  <tbody>\n    <tr>\n      <th>0</th>\n      <td>48.126091</td>\n      <td>-1.633563</td>\n      <td>Green Roads</td>\n      <td>NaN</td>\n    </tr>\n    <tr>\n      <th>1</th>\n      <td>48.113899</td>\n      <td>-1.679896</td>\n      <td>Green Roads</td>\n      <td>NaN</td>\n    </tr>\n    <tr>\n      <th>2</th>\n      <td>48.112593</td>\n      <td>-1.681460</td>\n      <td>Green Roads</td>\n      <td>NaN</td>\n    </tr>\n    <tr>\n      <th>3</th>\n      <td>48.101184</td>\n      <td>-1.677567</td>\n      <td>Green Roads</td>\n      <td>NaN</td>\n    </tr>\n    <tr>\n      <th>4</th>\n      <td>48.090941</td>\n      <td>-1.667963</td>\n      <td>Green Roads</td>\n      <td>NaN</td>\n    </tr>\n  </tbody>\n</table>\n</div>", 
                        "text/plain": "         lat      long    Equipment  Neighbourhood\n0  48.126091 -1.633563  Green Roads            NaN\n1  48.113899 -1.679896  Green Roads            NaN\n2  48.112593 -1.681460  Green Roads            NaN\n3  48.101184 -1.677567  Green Roads            NaN\n4  48.090941 -1.667963  Green Roads            NaN"
                    }, 
                    "output_type": "execute_result"
                }
            ], 
            "source": "body = client_2551b64066e74033992250268342bdad.get_object(Bucket='courseraproject-donotdelete-pr-pstz2scfjmnlsh',Key='amenagements-velo-et-zones-de-circulation-apaisee-sur-rennes-metropole.csv')['Body']\n# add missing __iter__ method, so pandas accepts body as file-like object\nif not hasattr(body, \"__iter__\"): body.__iter__ = types.MethodType( __iter__, body )\n\ngreen_roads = pd.read_csv(body,delimiter=';')\n\ngreen_roads = green_roads.loc[green_roads['c_insee'] == 35238.0]\ngreen_roads['lat'], green_roads['long'] = green_roads['Geo Point'].str.split(',').str\ngreen_roads = green_roads[['lat','long']]\ngreen_roads['Equipment'] = 'Green Roads'\ngreen_roads['Neighbourhood'] = np.nan\ngreen_roads.head()"
        }, 
        {
            "metadata": {}, 
            "cell_type": "markdown", 
            "source": "### Paid Parking"
        }, 
        {
            "execution_count": 194, 
            "metadata": {}, 
            "cell_type": "code", 
            "outputs": [
                {
                    "execution_count": 194, 
                    "metadata": {}, 
                    "data": {
                        "text/html": "<div>\n<style scoped>\n    .dataframe tbody tr th:only-of-type {\n        vertical-align: middle;\n    }\n\n    .dataframe tbody tr th {\n        vertical-align: top;\n    }\n\n    .dataframe thead th {\n        text-align: right;\n    }\n</style>\n<table border=\"1\" class=\"dataframe\">\n  <thead>\n    <tr style=\"text-align: right;\">\n      <th></th>\n      <th>lat</th>\n      <th>long</th>\n      <th>Equipment</th>\n      <th>Neighbourhood</th>\n    </tr>\n  </thead>\n  <tbody>\n    <tr>\n      <th>0</th>\n      <td>48.112387</td>\n      <td>-1.661293</td>\n      <td>Parking</td>\n      <td>NaN</td>\n    </tr>\n    <tr>\n      <th>1</th>\n      <td>48.104794</td>\n      <td>-1.692262</td>\n      <td>Parking</td>\n      <td>NaN</td>\n    </tr>\n    <tr>\n      <th>2</th>\n      <td>48.109626</td>\n      <td>-1.672802</td>\n      <td>Parking</td>\n      <td>NaN</td>\n    </tr>\n    <tr>\n      <th>3</th>\n      <td>48.104185</td>\n      <td>-1.690956</td>\n      <td>Parking</td>\n      <td>NaN</td>\n    </tr>\n    <tr>\n      <th>4</th>\n      <td>48.106053</td>\n      <td>-1.690532</td>\n      <td>Parking</td>\n      <td>NaN</td>\n    </tr>\n  </tbody>\n</table>\n</div>", 
                        "text/plain": "         lat      long Equipment  Neighbourhood\n0  48.112387 -1.661293   Parking            NaN\n1  48.104794 -1.692262   Parking            NaN\n2  48.109626 -1.672802   Parking            NaN\n3  48.104185 -1.690956   Parking            NaN\n4  48.106053 -1.690532   Parking            NaN"
                    }, 
                    "output_type": "execute_result"
                }
            ], 
            "source": "body = client_2551b64066e74033992250268342bdad.get_object(Bucket='courseraproject-donotdelete-pr-pstz2scfjmnlsh',Key='portions-de-voies-en-stationnement-payant-sur-la-ville-de-rennes.csv')['Body']\n# add missing __iter__ method, so pandas accepts body as file-like object\nif not hasattr(body, \"__iter__\"): body.__iter__ = types.MethodType( __iter__, body )\n\npaid_parking = pd.read_csv(body,delimiter=';')\npaid_parking['lat'], paid_parking['long'] = paid_parking['Geo Point'].str.split(',').str\npaid_parking = paid_parking[['lat','long']]\npaid_parking['Equipment'] = 'Parking'\npaid_parking['Neighbourhood'] = np.nan\npaid_parking.head()"
        }, 
        {
            "metadata": {}, 
            "cell_type": "markdown", 
            "source": "Lets merge all of our Data Frames (except cultural equipment that we will add once we found the neigbourhood of each equipment).\nWe also make sure that latitude and longitude are floats."
        }, 
        {
            "execution_count": 200, 
            "metadata": {}, 
            "cell_type": "code", 
            "outputs": [
                {
                    "execution_count": 200, 
                    "metadata": {}, 
                    "data": {
                        "text/html": "<div>\n<style scoped>\n    .dataframe tbody tr th:only-of-type {\n        vertical-align: middle;\n    }\n\n    .dataframe tbody tr th {\n        vertical-align: top;\n    }\n\n    .dataframe thead th {\n        text-align: right;\n    }\n</style>\n<table border=\"1\" class=\"dataframe\">\n  <thead>\n    <tr style=\"text-align: right;\">\n      <th></th>\n      <th>Equipment</th>\n      <th>Neighbourhood</th>\n      <th>lat</th>\n      <th>long</th>\n      <th>nombre_support</th>\n    </tr>\n  </thead>\n  <tbody>\n    <tr>\n      <th>0</th>\n      <td>Parking</td>\n      <td>NaN</td>\n      <td>48.112387</td>\n      <td>-1.661293</td>\n      <td>NaN</td>\n    </tr>\n    <tr>\n      <th>1</th>\n      <td>Parking</td>\n      <td>NaN</td>\n      <td>48.104794</td>\n      <td>-1.692262</td>\n      <td>NaN</td>\n    </tr>\n    <tr>\n      <th>2</th>\n      <td>Parking</td>\n      <td>NaN</td>\n      <td>48.109626</td>\n      <td>-1.672802</td>\n      <td>NaN</td>\n    </tr>\n    <tr>\n      <th>3</th>\n      <td>Parking</td>\n      <td>NaN</td>\n      <td>48.104185</td>\n      <td>-1.690956</td>\n      <td>NaN</td>\n    </tr>\n    <tr>\n      <th>4</th>\n      <td>Parking</td>\n      <td>NaN</td>\n      <td>48.106053</td>\n      <td>-1.690532</td>\n      <td>NaN</td>\n    </tr>\n  </tbody>\n</table>\n</div>", 
                        "text/plain": "  Equipment  Neighbourhood        lat      long  nombre_support\n0   Parking            NaN  48.112387 -1.661293             NaN\n1   Parking            NaN  48.104794 -1.692262             NaN\n2   Parking            NaN  48.109626 -1.672802             NaN\n3   Parking            NaN  48.104185 -1.690956             NaN\n4   Parking            NaN  48.106053 -1.690532             NaN"
                    }, 
                    "output_type": "execute_result"
                }
            ], 
            "source": "frames = [paid_parking, green_roads, bike_stops, bus_stop, electric_car_charger]\nequipments = pd.concat(frames)\nequipments['lat'] = equipments['lat'].astype(float)\nequipments['long'] = equipments['long'].astype(float)\nequipments.head()"
        }, 
        {
            "metadata": {}, 
            "cell_type": "markdown", 
            "source": "## Put equipment into Neighboorhood"
        }, 
        {
            "metadata": {}, 
            "cell_type": "markdown", 
            "source": "For simplicity reason we will consider that each neighboor is round. So we will take the center of the neighbourhood and look for each equipment if the point is in a distance of less than 1km of a neighbourhood. If it is the case, we will assign the neighbourhood to the equipment.\n\nFor the computation of the distances we use the fonction defined at the begining."
        }, 
        {
            "execution_count": null, 
            "metadata": {}, 
            "cell_type": "code", 
            "outputs": [
                {
                    "output_type": "stream", 
                    "name": "stderr", 
                    "text": "/opt/conda/envs/DSX-Python35/lib/python3.5/site-packages/pandas/core/indexing.py:194: SettingWithCopyWarning: \nA value is trying to be set on a copy of a slice from a DataFrame\n\nSee the caveats in the documentation: http://pandas.pydata.org/pandas-docs/stable/indexing.html#indexing-view-versus-copy\n  self._setitem_with_indexer(indexer, value)\n"
                }
            ], 
            "source": "for index, row in rennes_neighbourhood.iterrows():\n    check_distance = equipments.copy()\n    check_distance['Neighbourhood']=rennes_neighbourhood['nom'].iloc[index]\n    check_distance['Neighbourhood_lat']=rennes_neighbourhood['lat'].iloc[index]\n    check_distance['Neighbourhood_long']=rennes_neighbourhood['long'].iloc[index]\n    check_distance['dist_from_Neighbourhood']= check_distance.apply(lambda row: haversine(row['Neighbourhood_long'], \n                                            row['Neighbourhood_lat'], \n                                            row['long'], \n                                            row['lat']), axis=1)\n    \n    for index, row in check_distance.iterrows():\n        if row['dist_from_Neighbourhood'] < 1:\n            if pd.isnull(equipments['Neighbourhood'].iloc[index]):\n                equipments['Neighbourhood'].iloc[index] = row['Neighbourhood']\n            else:\n                equipments['Neighbourhood'].iloc[index] = equipments['Neighbourhood'].iloc[index] + ', ' + row['Neighbourhood']\n                \n            \nequipments.head()"
        }, 
        {
            "metadata": {}, 
            "cell_type": "markdown", 
            "source": "As a result of choosing round neighbourhood for simplicity, some equipment are not assigned to a neighbourhood.\nLet's get rid of them."
        }, 
        {
            "execution_count": 228, 
            "metadata": {}, 
            "cell_type": "code", 
            "outputs": [
                {
                    "execution_count": 228, 
                    "metadata": {}, 
                    "data": {
                        "text/plain": "False"
                    }, 
                    "output_type": "execute_result"
                }
            ], 
            "source": "pd.isnull(equipments['Neighbourhood'].iloc[1])"
        }, 
        {
            "execution_count": 218, 
            "metadata": {}, 
            "cell_type": "code", 
            "outputs": [
                {
                    "execution_count": 218, 
                    "metadata": {}, 
                    "data": {
                        "text/html": "<div>\n<style scoped>\n    .dataframe tbody tr th:only-of-type {\n        vertical-align: middle;\n    }\n\n    .dataframe tbody tr th {\n        vertical-align: top;\n    }\n\n    .dataframe thead th {\n        text-align: right;\n    }\n</style>\n<table border=\"1\" class=\"dataframe\">\n  <thead>\n    <tr style=\"text-align: right;\">\n      <th></th>\n      <th>Equipment</th>\n      <th>Neighbourhood</th>\n      <th>lat</th>\n      <th>long</th>\n      <th>nombre_support</th>\n    </tr>\n  </thead>\n  <tbody>\n    <tr>\n      <th>0</th>\n      <td>Parking</td>\n      <td>CentreJeanne d'Arc - Longs Champs - BeaulieuJe...</td>\n      <td>48.112387</td>\n      <td>-1.661293</td>\n      <td>NaN</td>\n    </tr>\n    <tr>\n      <th>1</th>\n      <td>Parking</td>\n      <td>CentreJeanne d'Arc - Longs Champs - BeaulieuCe...</td>\n      <td>48.104794</td>\n      <td>-1.692262</td>\n      <td>NaN</td>\n    </tr>\n    <tr>\n      <th>2</th>\n      <td>Parking</td>\n      <td>CentreThabor - Saint-H\u00e9lier - Alphonse Gu\u00e9rinT...</td>\n      <td>48.109626</td>\n      <td>-1.672802</td>\n      <td>NaN</td>\n    </tr>\n    <tr>\n      <th>3</th>\n      <td>Parking</td>\n      <td>CentreSud gareCentreCentreCentre</td>\n      <td>48.104185</td>\n      <td>-1.690956</td>\n      <td>NaN</td>\n    </tr>\n    <tr>\n      <th>4</th>\n      <td>Parking</td>\n      <td>CentreLe BlosneSud gareCentreCentre</td>\n      <td>48.106053</td>\n      <td>-1.690532</td>\n      <td>NaN</td>\n    </tr>\n  </tbody>\n</table>\n</div>", 
                        "text/plain": "  Equipment                                      Neighbourhood        lat  \\\n0   Parking  CentreJeanne d'Arc - Longs Champs - BeaulieuJe...  48.112387   \n1   Parking  CentreJeanne d'Arc - Longs Champs - BeaulieuCe...  48.104794   \n2   Parking  CentreThabor - Saint-H\u00e9lier - Alphonse Gu\u00e9rinT...  48.109626   \n3   Parking                   CentreSud gareCentreCentreCentre  48.104185   \n4   Parking                CentreLe BlosneSud gareCentreCentre  48.106053   \n\n       long  nombre_support  \n0 -1.661293             NaN  \n1 -1.692262             NaN  \n2 -1.672802             NaN  \n3 -1.690956             NaN  \n4 -1.690532             NaN  "
                    }, 
                    "output_type": "execute_result"
                }
            ], 
            "source": "equipments.head()"
        }, 
        {
            "execution_count": null, 
            "metadata": {}, 
            "cell_type": "code", 
            "outputs": [], 
            "source": ""
        }, 
        {
            "execution_count": null, 
            "metadata": {}, 
            "cell_type": "code", 
            "outputs": [], 
            "source": ""
        }, 
        {
            "execution_count": null, 
            "metadata": {}, 
            "cell_type": "code", 
            "outputs": [], 
            "source": ""
        }, 
        {
            "metadata": {}, 
            "cell_type": "markdown", 
            "source": "# Code pour l'anciennet\u00e9 des habitant et les stats de pop"
        }, 
        {
            "execution_count": null, 
            "metadata": {}, 
            "cell_type": "code", 
            "outputs": [], 
            "source": "body = client_2551b64066e74033992250268342bdad.get_object(Bucket='courseraproject-donotdelete-pr-pstz2scfjmnlsh',Key='logement-anciennete.csv')['Body']\n# add missing __iter__ method, so pandas accepts body as file-like object\nif not hasattr(body, \"__iter__\"): body.__iter__ = types.MethodType( __iter__, body )\n\nhousing_seniority = pd.read_csv(body,delimiter=';')\nhousing_seniority = housing_seniority.loc[housing_seniority['Commune'] == 'Rennes']\nhousing_seniority = housing_seniority.drop(['Code INSEE', 'geolocalisation', 'Commune'], axis = 1)\nhousing_seniority.head()\n\nbody = client_2551b64066e74033992250268342bdad.get_object(Bucket='courseraproject-donotdelete-pr-pstz2scfjmnlsh',Key='population-par-sexe-age-et-nationalite-par-commune-2014.csv')['Body']\n# add missing __iter__ method, so pandas accepts body as file-like object\nif not hasattr(body, \"__iter__\"): body.__iter__ = types.MethodType( __iter__, body )\n\npop_stats = pd.read_csv(body,delimiter=';')\npop_stats = pop_stats.loc[pop_stats['libell\u00e9 g\u00e9ographique'] == 'Rennes']\npop_stats = pop_stats.drop(['niveau g\u00e9ographique', 'code g\u00e9ographique', 'libell\u00e9 g\u00e9ographique', 'CODE_DEPT', 'CODE_DEPT'], axis = 1)\npop_stats = pop_stats.drop(['NB', 'inter_codegeo1', 'EPCI', 'LIBEPCI', 'NATURE_EPCI', 'NOM_DEPT', 'CODE_REG', 'NOM_REG'], axis = 1)\npop_stats.head()"
        }
    ], 
    "nbformat_minor": 2
}